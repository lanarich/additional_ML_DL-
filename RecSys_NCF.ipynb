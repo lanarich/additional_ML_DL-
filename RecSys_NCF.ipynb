{
  "cells": [
    {
      "cell_type": "markdown",
      "metadata": {
        "id": "view-in-github",
        "colab_type": "text"
      },
      "source": [
        "<a href=\"https://colab.research.google.com/github/lanarich/additional_ML_DL-/blob/main/RecSys_NCF.ipynb\" target=\"_parent\"><img src=\"https://colab.research.google.com/assets/colab-badge.svg\" alt=\"Open In Colab\"/></a>"
      ]
    },
    {
      "cell_type": "markdown",
      "metadata": {
        "id": "-SdUZ6-W9ULk"
      },
      "source": [
        "# Neural Collaborative Filtering (NCF)"
      ]
    },
    {
      "cell_type": "code",
      "execution_count": null,
      "metadata": {
        "id": "xBKtBI5u9ULs"
      },
      "outputs": [],
      "source": [
        "s%matplotlib inline\n",
        "import matplotlib.pyplot as plt\n",
        "import numpy as np\n",
        "import pandas as pd\n",
        "from IPython.display import clear_output"
      ]
    },
    {
      "cell_type": "markdown",
      "metadata": {
        "id": "DeGk56pT9ULu"
      },
      "source": [
        "# Рекомендация фильмов"
      ]
    },
    {
      "cell_type": "markdown",
      "metadata": {
        "id": "8pYo1Ec-9ULw"
      },
      "source": [
        "В этом семинаре рассмотрим рекомендательную систему фильмов на основе нейронных сетей. Будем работать с данными, которые сожержат 1,000,209 анонимных рейтингов для примерно 3,900 фильмов от 6,040 пользователей MovieLens, которые присоединись в 2000.\n",
        "\n",
        "**План семинара:**\n",
        "\n",
        "\n",
        "1.   загрузим данные и посмотрим на них;\n",
        "2.   обучим нейросетевую модель для рекомендаций Neural Collaborative Filtering (NCF);\n",
        "3.   рассмотрим метрики качества рекомендаций;\n",
        "4.   обучим модель классического машинного обучения  Factorization Machine (FM);\n",
        "5.   сравним качество NCF и FM  по метрикам Hitrate@k и nDCG@k.\n",
        "\n",
        "\n",
        "\n",
        "<center><img src=\"https://i.imgflip.com/1pvf4b.jpg\" width=\"400\"></center>\n",
        "\n",
        "**Source:** https://grouplens.org/datasets/movielens/1m/"
      ]
    },
    {
      "cell_type": "code",
      "execution_count": null,
      "metadata": {
        "colab": {
          "base_uri": "https://localhost:8080/"
        },
        "id": "6ZrhXPFR9ULx",
        "outputId": "d730931d-b4db-4a22-a899-fc697f29f366"
      },
      "outputs": [
        {
          "output_type": "stream",
          "name": "stdout",
          "text": [
            "--2022-04-18 23:55:03--  https://raw.githubusercontent.com/gaoxx643/MovieLens-1M-Dataset/master/movies.dat\n",
            "Resolving raw.githubusercontent.com (raw.githubusercontent.com)... 185.199.108.133, 185.199.109.133, 185.199.110.133, ...\n",
            "Connecting to raw.githubusercontent.com (raw.githubusercontent.com)|185.199.108.133|:443... connected.\n",
            "HTTP request sent, awaiting response... 200 OK\n",
            "Length: 171308 (167K) [text/plain]\n",
            "Saving to: ‘movies.dat.1’\n",
            "\n",
            "\rmovies.dat.1          0%[                    ]       0  --.-KB/s               \rmovies.dat.1        100%[===================>] 167.29K  --.-KB/s    in 0.02s   \n",
            "\n",
            "2022-04-18 23:55:03 (7.41 MB/s) - ‘movies.dat.1’ saved [171308/171308]\n",
            "\n",
            "--2022-04-18 23:55:03--  https://raw.githubusercontent.com/gaoxx643/MovieLens-1M-Dataset/master/users.dat\n",
            "Resolving raw.githubusercontent.com (raw.githubusercontent.com)... 185.199.108.133, 185.199.110.133, 185.199.111.133, ...\n",
            "Connecting to raw.githubusercontent.com (raw.githubusercontent.com)|185.199.108.133|:443... connected.\n",
            "HTTP request sent, awaiting response... 200 OK\n",
            "Length: 134368 (131K) [text/plain]\n",
            "Saving to: ‘users.dat.1’\n",
            "\n",
            "users.dat.1         100%[===================>] 131.22K  --.-KB/s    in 0.02s   \n",
            "\n",
            "2022-04-18 23:55:04 (6.19 MB/s) - ‘users.dat.1’ saved [134368/134368]\n",
            "\n",
            "--2022-04-18 23:55:04--  https://raw.githubusercontent.com/gaoxx643/MovieLens-1M-Dataset/master/ratings.dat\n",
            "Resolving raw.githubusercontent.com (raw.githubusercontent.com)... 185.199.108.133, 185.199.110.133, 185.199.111.133, ...\n",
            "Connecting to raw.githubusercontent.com (raw.githubusercontent.com)|185.199.108.133|:443... connected.\n",
            "HTTP request sent, awaiting response... 200 OK\n",
            "Length: 24594131 (23M) [text/plain]\n",
            "Saving to: ‘ratings.dat.1’\n",
            "\n",
            "ratings.dat.1       100%[===================>]  23.45M  75.0MB/s    in 0.3s    \n",
            "\n",
            "2022-04-18 23:55:04 (75.0 MB/s) - ‘ratings.dat.1’ saved [24594131/24594131]\n",
            "\n"
          ]
        }
      ],
      "source": [
        "# скачаем данные\n",
        "!wget https://raw.githubusercontent.com/gaoxx643/MovieLens-1M-Dataset/master/movies.dat\n",
        "!wget https://raw.githubusercontent.com/gaoxx643/MovieLens-1M-Dataset/master/users.dat\n",
        "!wget https://raw.githubusercontent.com/gaoxx643/MovieLens-1M-Dataset/master/ratings.dat"
      ]
    },
    {
      "cell_type": "markdown",
      "metadata": {
        "id": "3dVUriet9ULz"
      },
      "source": [
        "### MOVIES FILE DESCRIPTION\n",
        "\n",
        "Movie information is in the file \"movies.dat\" and is in the following\n",
        "format:\n",
        "\n",
        "MovieID::Title::Genres\n",
        "\n",
        "- Titles are identical to titles provided by the IMDB (including\n",
        "year of release)\n",
        "- Genres are pipe-separated and are selected from the following genres:\n",
        "\n",
        "    * Action\n",
        "    * Adventure\n",
        "    * Animation\n",
        "    * Children's\n",
        "    * Comedy\n",
        "    * Crime\n",
        "    * Documentary\n",
        "    * Drama\n",
        "    * Fantasy\n",
        "    * Film-Noir\n",
        "    * Horror\n",
        "    * Musical\n",
        "    * Mystery\n",
        "    * Romance\n",
        "    * Sci-Fi\n",
        "    * Thriller\n",
        "    * War\n",
        "    * Western\n",
        "\n",
        "- Some MovieIDs do not correspond to a movie due to accidental duplicate\n",
        "entries and/or test entries\n",
        "- Movies are mostly entered by hand, so errors and inconsistencies may exist"
      ]
    },
    {
      "cell_type": "code",
      "execution_count": null,
      "metadata": {
        "colab": {
          "base_uri": "https://localhost:8080/",
          "height": 363
        },
        "id": "V03LEkOm9UL1",
        "outputId": "dd531e0c-5290-4c54-81a3-ca460b87a9a2"
      },
      "outputs": [
        {
          "output_type": "execute_result",
          "data": {
            "text/plain": [
              "   MovieID                               Title                        Genres\n",
              "0        1                    Toy Story (1995)   Animation|Children's|Comedy\n",
              "1        2                      Jumanji (1995)  Adventure|Children's|Fantasy\n",
              "2        3             Grumpier Old Men (1995)                Comedy|Romance\n",
              "3        4            Waiting to Exhale (1995)                  Comedy|Drama\n",
              "4        5  Father of the Bride Part II (1995)                        Comedy\n",
              "5        6                         Heat (1995)         Action|Crime|Thriller\n",
              "6        7                      Sabrina (1995)                Comedy|Romance\n",
              "7        8                 Tom and Huck (1995)          Adventure|Children's\n",
              "8        9                 Sudden Death (1995)                        Action\n",
              "9       10                    GoldenEye (1995)     Action|Adventure|Thriller"
            ],
            "text/html": [
              "\n",
              "  <div id=\"df-1c7bc1da-5212-4d55-b0c0-ca5e459207fa\">\n",
              "    <div class=\"colab-df-container\">\n",
              "      <div>\n",
              "<style scoped>\n",
              "    .dataframe tbody tr th:only-of-type {\n",
              "        vertical-align: middle;\n",
              "    }\n",
              "\n",
              "    .dataframe tbody tr th {\n",
              "        vertical-align: top;\n",
              "    }\n",
              "\n",
              "    .dataframe thead th {\n",
              "        text-align: right;\n",
              "    }\n",
              "</style>\n",
              "<table border=\"1\" class=\"dataframe\">\n",
              "  <thead>\n",
              "    <tr style=\"text-align: right;\">\n",
              "      <th></th>\n",
              "      <th>MovieID</th>\n",
              "      <th>Title</th>\n",
              "      <th>Genres</th>\n",
              "    </tr>\n",
              "  </thead>\n",
              "  <tbody>\n",
              "    <tr>\n",
              "      <th>0</th>\n",
              "      <td>1</td>\n",
              "      <td>Toy Story (1995)</td>\n",
              "      <td>Animation|Children's|Comedy</td>\n",
              "    </tr>\n",
              "    <tr>\n",
              "      <th>1</th>\n",
              "      <td>2</td>\n",
              "      <td>Jumanji (1995)</td>\n",
              "      <td>Adventure|Children's|Fantasy</td>\n",
              "    </tr>\n",
              "    <tr>\n",
              "      <th>2</th>\n",
              "      <td>3</td>\n",
              "      <td>Grumpier Old Men (1995)</td>\n",
              "      <td>Comedy|Romance</td>\n",
              "    </tr>\n",
              "    <tr>\n",
              "      <th>3</th>\n",
              "      <td>4</td>\n",
              "      <td>Waiting to Exhale (1995)</td>\n",
              "      <td>Comedy|Drama</td>\n",
              "    </tr>\n",
              "    <tr>\n",
              "      <th>4</th>\n",
              "      <td>5</td>\n",
              "      <td>Father of the Bride Part II (1995)</td>\n",
              "      <td>Comedy</td>\n",
              "    </tr>\n",
              "    <tr>\n",
              "      <th>5</th>\n",
              "      <td>6</td>\n",
              "      <td>Heat (1995)</td>\n",
              "      <td>Action|Crime|Thriller</td>\n",
              "    </tr>\n",
              "    <tr>\n",
              "      <th>6</th>\n",
              "      <td>7</td>\n",
              "      <td>Sabrina (1995)</td>\n",
              "      <td>Comedy|Romance</td>\n",
              "    </tr>\n",
              "    <tr>\n",
              "      <th>7</th>\n",
              "      <td>8</td>\n",
              "      <td>Tom and Huck (1995)</td>\n",
              "      <td>Adventure|Children's</td>\n",
              "    </tr>\n",
              "    <tr>\n",
              "      <th>8</th>\n",
              "      <td>9</td>\n",
              "      <td>Sudden Death (1995)</td>\n",
              "      <td>Action</td>\n",
              "    </tr>\n",
              "    <tr>\n",
              "      <th>9</th>\n",
              "      <td>10</td>\n",
              "      <td>GoldenEye (1995)</td>\n",
              "      <td>Action|Adventure|Thriller</td>\n",
              "    </tr>\n",
              "  </tbody>\n",
              "</table>\n",
              "</div>\n",
              "      <button class=\"colab-df-convert\" onclick=\"convertToInteractive('df-1c7bc1da-5212-4d55-b0c0-ca5e459207fa')\"\n",
              "              title=\"Convert this dataframe to an interactive table.\"\n",
              "              style=\"display:none;\">\n",
              "        \n",
              "  <svg xmlns=\"http://www.w3.org/2000/svg\" height=\"24px\"viewBox=\"0 0 24 24\"\n",
              "       width=\"24px\">\n",
              "    <path d=\"M0 0h24v24H0V0z\" fill=\"none\"/>\n",
              "    <path d=\"M18.56 5.44l.94 2.06.94-2.06 2.06-.94-2.06-.94-.94-2.06-.94 2.06-2.06.94zm-11 1L8.5 8.5l.94-2.06 2.06-.94-2.06-.94L8.5 2.5l-.94 2.06-2.06.94zm10 10l.94 2.06.94-2.06 2.06-.94-2.06-.94-.94-2.06-.94 2.06-2.06.94z\"/><path d=\"M17.41 7.96l-1.37-1.37c-.4-.4-.92-.59-1.43-.59-.52 0-1.04.2-1.43.59L10.3 9.45l-7.72 7.72c-.78.78-.78 2.05 0 2.83L4 21.41c.39.39.9.59 1.41.59.51 0 1.02-.2 1.41-.59l7.78-7.78 2.81-2.81c.8-.78.8-2.07 0-2.86zM5.41 20L4 18.59l7.72-7.72 1.47 1.35L5.41 20z\"/>\n",
              "  </svg>\n",
              "      </button>\n",
              "      \n",
              "  <style>\n",
              "    .colab-df-container {\n",
              "      display:flex;\n",
              "      flex-wrap:wrap;\n",
              "      gap: 12px;\n",
              "    }\n",
              "\n",
              "    .colab-df-convert {\n",
              "      background-color: #E8F0FE;\n",
              "      border: none;\n",
              "      border-radius: 50%;\n",
              "      cursor: pointer;\n",
              "      display: none;\n",
              "      fill: #1967D2;\n",
              "      height: 32px;\n",
              "      padding: 0 0 0 0;\n",
              "      width: 32px;\n",
              "    }\n",
              "\n",
              "    .colab-df-convert:hover {\n",
              "      background-color: #E2EBFA;\n",
              "      box-shadow: 0px 1px 2px rgba(60, 64, 67, 0.3), 0px 1px 3px 1px rgba(60, 64, 67, 0.15);\n",
              "      fill: #174EA6;\n",
              "    }\n",
              "\n",
              "    [theme=dark] .colab-df-convert {\n",
              "      background-color: #3B4455;\n",
              "      fill: #D2E3FC;\n",
              "    }\n",
              "\n",
              "    [theme=dark] .colab-df-convert:hover {\n",
              "      background-color: #434B5C;\n",
              "      box-shadow: 0px 1px 3px 1px rgba(0, 0, 0, 0.15);\n",
              "      filter: drop-shadow(0px 1px 2px rgba(0, 0, 0, 0.3));\n",
              "      fill: #FFFFFF;\n",
              "    }\n",
              "  </style>\n",
              "\n",
              "      <script>\n",
              "        const buttonEl =\n",
              "          document.querySelector('#df-1c7bc1da-5212-4d55-b0c0-ca5e459207fa button.colab-df-convert');\n",
              "        buttonEl.style.display =\n",
              "          google.colab.kernel.accessAllowed ? 'block' : 'none';\n",
              "\n",
              "        async function convertToInteractive(key) {\n",
              "          const element = document.querySelector('#df-1c7bc1da-5212-4d55-b0c0-ca5e459207fa');\n",
              "          const dataTable =\n",
              "            await google.colab.kernel.invokeFunction('convertToInteractive',\n",
              "                                                     [key], {});\n",
              "          if (!dataTable) return;\n",
              "\n",
              "          const docLinkHtml = 'Like what you see? Visit the ' +\n",
              "            '<a target=\"_blank\" href=https://colab.research.google.com/notebooks/data_table.ipynb>data table notebook</a>'\n",
              "            + ' to learn more about interactive tables.';\n",
              "          element.innerHTML = '';\n",
              "          dataTable['output_type'] = 'display_data';\n",
              "          await google.colab.output.renderOutput(dataTable, element);\n",
              "          const docLink = document.createElement('div');\n",
              "          docLink.innerHTML = docLinkHtml;\n",
              "          element.appendChild(docLink);\n",
              "        }\n",
              "      </script>\n",
              "    </div>\n",
              "  </div>\n",
              "  "
            ]
          },
          "metadata": {},
          "execution_count": 44
        }
      ],
      "source": [
        "movies = pd.read_csv(\n",
        "    \"movies.dat\", sep=\"::\", engine=\"python\", header=None, encoding=\"latin-1\"\n",
        ")\n",
        "movies.columns = [\"MovieID\", \"Title\", \"Genres\"]\n",
        "movies.head(10)"
      ]
    },
    {
      "cell_type": "markdown",
      "metadata": {
        "id": "QY93Cc119UL2"
      },
      "source": [
        "### USERS FILE DESCRIPTION\n",
        "\n",
        "User information is in the file \"users.dat\" and is in the following\n",
        "format:\n",
        "\n",
        "UserID::Gender::Age::Occupation::Zip-code\n",
        "\n",
        "All demographic information is provided voluntarily by the users and is\n",
        "not checked for accuracy.  Only users who have provided some demographic\n",
        "information are included in this data set.\n",
        "\n",
        "- Gender is denoted by a \"M\" for male and \"F\" for female\n",
        "- Age is chosen from the following ranges:\n",
        "\n",
        "    *  1:  \"Under 18\"\n",
        "    * 18:  \"18-24\"\n",
        "    * 25:  \"25-34\"\n",
        "    * 35:  \"35-44\"\n",
        "    * 45:  \"45-49\"\n",
        "    * 50:  \"50-55\"\n",
        "    * 56:  \"56+\"\n",
        "\n",
        "- Occupation is chosen from the following choices:\n",
        "\n",
        "    *  0:  \"other\" or not specified\n",
        "    *  1:  \"academic/educator\"\n",
        "    *  2:  \"artist\"\n",
        "    *  3:  \"clerical/admin\"\n",
        "    *  4:  \"college/grad student\"\n",
        "    *  5:  \"customer service\"\n",
        "    *  6:  \"doctor/health care\"\n",
        "    *  7:  \"executive/managerial\"\n",
        "    *  8:  \"farmer\"\n",
        "    *  9:  \"homemaker\"\n",
        "    * 10:  \"K-12 student\"\n",
        "    * 11:  \"lawyer\"\n",
        "    * 12:  \"programmer\"\n",
        "    * 13:  \"retired\"\n",
        "    * 14:  \"sales/marketing\"\n",
        "    * 15:  \"scientist\"\n",
        "    * 16:  \"self-employed\"\n",
        "    * 17:  \"technician/engineer\"\n",
        "    * 18:  \"tradesman/craftsman\"\n",
        "    * 19:  \"unemployed\"\n",
        "    * 20:  \"writer\""
      ]
    },
    {
      "cell_type": "code",
      "execution_count": null,
      "metadata": {
        "colab": {
          "base_uri": "https://localhost:8080/",
          "height": 363
        },
        "id": "N6Y51et59UL4",
        "outputId": "e5887829-e3d3-40e9-84a5-dae4dc8e58f3"
      },
      "outputs": [
        {
          "output_type": "execute_result",
          "data": {
            "text/plain": [
              "   UserID Gender  Age  Occupation Zip-code\n",
              "0       1      F    1          10    48067\n",
              "1       2      M   56          16    70072\n",
              "2       3      M   25          15    55117\n",
              "3       4      M   45           7    02460\n",
              "4       5      M   25          20    55455\n",
              "5       6      F   50           9    55117\n",
              "6       7      M   35           1    06810\n",
              "7       8      M   25          12    11413\n",
              "8       9      M   25          17    61614\n",
              "9      10      F   35           1    95370"
            ],
            "text/html": [
              "\n",
              "  <div id=\"df-df36c514-3064-4c85-8526-d218349b3afb\">\n",
              "    <div class=\"colab-df-container\">\n",
              "      <div>\n",
              "<style scoped>\n",
              "    .dataframe tbody tr th:only-of-type {\n",
              "        vertical-align: middle;\n",
              "    }\n",
              "\n",
              "    .dataframe tbody tr th {\n",
              "        vertical-align: top;\n",
              "    }\n",
              "\n",
              "    .dataframe thead th {\n",
              "        text-align: right;\n",
              "    }\n",
              "</style>\n",
              "<table border=\"1\" class=\"dataframe\">\n",
              "  <thead>\n",
              "    <tr style=\"text-align: right;\">\n",
              "      <th></th>\n",
              "      <th>UserID</th>\n",
              "      <th>Gender</th>\n",
              "      <th>Age</th>\n",
              "      <th>Occupation</th>\n",
              "      <th>Zip-code</th>\n",
              "    </tr>\n",
              "  </thead>\n",
              "  <tbody>\n",
              "    <tr>\n",
              "      <th>0</th>\n",
              "      <td>1</td>\n",
              "      <td>F</td>\n",
              "      <td>1</td>\n",
              "      <td>10</td>\n",
              "      <td>48067</td>\n",
              "    </tr>\n",
              "    <tr>\n",
              "      <th>1</th>\n",
              "      <td>2</td>\n",
              "      <td>M</td>\n",
              "      <td>56</td>\n",
              "      <td>16</td>\n",
              "      <td>70072</td>\n",
              "    </tr>\n",
              "    <tr>\n",
              "      <th>2</th>\n",
              "      <td>3</td>\n",
              "      <td>M</td>\n",
              "      <td>25</td>\n",
              "      <td>15</td>\n",
              "      <td>55117</td>\n",
              "    </tr>\n",
              "    <tr>\n",
              "      <th>3</th>\n",
              "      <td>4</td>\n",
              "      <td>M</td>\n",
              "      <td>45</td>\n",
              "      <td>7</td>\n",
              "      <td>02460</td>\n",
              "    </tr>\n",
              "    <tr>\n",
              "      <th>4</th>\n",
              "      <td>5</td>\n",
              "      <td>M</td>\n",
              "      <td>25</td>\n",
              "      <td>20</td>\n",
              "      <td>55455</td>\n",
              "    </tr>\n",
              "    <tr>\n",
              "      <th>5</th>\n",
              "      <td>6</td>\n",
              "      <td>F</td>\n",
              "      <td>50</td>\n",
              "      <td>9</td>\n",
              "      <td>55117</td>\n",
              "    </tr>\n",
              "    <tr>\n",
              "      <th>6</th>\n",
              "      <td>7</td>\n",
              "      <td>M</td>\n",
              "      <td>35</td>\n",
              "      <td>1</td>\n",
              "      <td>06810</td>\n",
              "    </tr>\n",
              "    <tr>\n",
              "      <th>7</th>\n",
              "      <td>8</td>\n",
              "      <td>M</td>\n",
              "      <td>25</td>\n",
              "      <td>12</td>\n",
              "      <td>11413</td>\n",
              "    </tr>\n",
              "    <tr>\n",
              "      <th>8</th>\n",
              "      <td>9</td>\n",
              "      <td>M</td>\n",
              "      <td>25</td>\n",
              "      <td>17</td>\n",
              "      <td>61614</td>\n",
              "    </tr>\n",
              "    <tr>\n",
              "      <th>9</th>\n",
              "      <td>10</td>\n",
              "      <td>F</td>\n",
              "      <td>35</td>\n",
              "      <td>1</td>\n",
              "      <td>95370</td>\n",
              "    </tr>\n",
              "  </tbody>\n",
              "</table>\n",
              "</div>\n",
              "      <button class=\"colab-df-convert\" onclick=\"convertToInteractive('df-df36c514-3064-4c85-8526-d218349b3afb')\"\n",
              "              title=\"Convert this dataframe to an interactive table.\"\n",
              "              style=\"display:none;\">\n",
              "        \n",
              "  <svg xmlns=\"http://www.w3.org/2000/svg\" height=\"24px\"viewBox=\"0 0 24 24\"\n",
              "       width=\"24px\">\n",
              "    <path d=\"M0 0h24v24H0V0z\" fill=\"none\"/>\n",
              "    <path d=\"M18.56 5.44l.94 2.06.94-2.06 2.06-.94-2.06-.94-.94-2.06-.94 2.06-2.06.94zm-11 1L8.5 8.5l.94-2.06 2.06-.94-2.06-.94L8.5 2.5l-.94 2.06-2.06.94zm10 10l.94 2.06.94-2.06 2.06-.94-2.06-.94-.94-2.06-.94 2.06-2.06.94z\"/><path d=\"M17.41 7.96l-1.37-1.37c-.4-.4-.92-.59-1.43-.59-.52 0-1.04.2-1.43.59L10.3 9.45l-7.72 7.72c-.78.78-.78 2.05 0 2.83L4 21.41c.39.39.9.59 1.41.59.51 0 1.02-.2 1.41-.59l7.78-7.78 2.81-2.81c.8-.78.8-2.07 0-2.86zM5.41 20L4 18.59l7.72-7.72 1.47 1.35L5.41 20z\"/>\n",
              "  </svg>\n",
              "      </button>\n",
              "      \n",
              "  <style>\n",
              "    .colab-df-container {\n",
              "      display:flex;\n",
              "      flex-wrap:wrap;\n",
              "      gap: 12px;\n",
              "    }\n",
              "\n",
              "    .colab-df-convert {\n",
              "      background-color: #E8F0FE;\n",
              "      border: none;\n",
              "      border-radius: 50%;\n",
              "      cursor: pointer;\n",
              "      display: none;\n",
              "      fill: #1967D2;\n",
              "      height: 32px;\n",
              "      padding: 0 0 0 0;\n",
              "      width: 32px;\n",
              "    }\n",
              "\n",
              "    .colab-df-convert:hover {\n",
              "      background-color: #E2EBFA;\n",
              "      box-shadow: 0px 1px 2px rgba(60, 64, 67, 0.3), 0px 1px 3px 1px rgba(60, 64, 67, 0.15);\n",
              "      fill: #174EA6;\n",
              "    }\n",
              "\n",
              "    [theme=dark] .colab-df-convert {\n",
              "      background-color: #3B4455;\n",
              "      fill: #D2E3FC;\n",
              "    }\n",
              "\n",
              "    [theme=dark] .colab-df-convert:hover {\n",
              "      background-color: #434B5C;\n",
              "      box-shadow: 0px 1px 3px 1px rgba(0, 0, 0, 0.15);\n",
              "      filter: drop-shadow(0px 1px 2px rgba(0, 0, 0, 0.3));\n",
              "      fill: #FFFFFF;\n",
              "    }\n",
              "  </style>\n",
              "\n",
              "      <script>\n",
              "        const buttonEl =\n",
              "          document.querySelector('#df-df36c514-3064-4c85-8526-d218349b3afb button.colab-df-convert');\n",
              "        buttonEl.style.display =\n",
              "          google.colab.kernel.accessAllowed ? 'block' : 'none';\n",
              "\n",
              "        async function convertToInteractive(key) {\n",
              "          const element = document.querySelector('#df-df36c514-3064-4c85-8526-d218349b3afb');\n",
              "          const dataTable =\n",
              "            await google.colab.kernel.invokeFunction('convertToInteractive',\n",
              "                                                     [key], {});\n",
              "          if (!dataTable) return;\n",
              "\n",
              "          const docLinkHtml = 'Like what you see? Visit the ' +\n",
              "            '<a target=\"_blank\" href=https://colab.research.google.com/notebooks/data_table.ipynb>data table notebook</a>'\n",
              "            + ' to learn more about interactive tables.';\n",
              "          element.innerHTML = '';\n",
              "          dataTable['output_type'] = 'display_data';\n",
              "          await google.colab.output.renderOutput(dataTable, element);\n",
              "          const docLink = document.createElement('div');\n",
              "          docLink.innerHTML = docLinkHtml;\n",
              "          element.appendChild(docLink);\n",
              "        }\n",
              "      </script>\n",
              "    </div>\n",
              "  </div>\n",
              "  "
            ]
          },
          "metadata": {},
          "execution_count": 45
        }
      ],
      "source": [
        "users = pd.read_csv(\"users.dat\", sep=\"::\", engine=\"python\", header=None)\n",
        "users.columns = [\"UserID\", \"Gender\", \"Age\", \"Occupation\", \"Zip-code\"]\n",
        "users.head(10)"
      ]
    },
    {
      "cell_type": "markdown",
      "metadata": {
        "id": "9FOqe7a29UL5"
      },
      "source": [
        "### RATINGS FILE DESCRIPTION\n",
        "\n",
        "All ratings are contained in the file \"ratings.dat\" and are in the\n",
        "following format:\n",
        "\n",
        "UserID::MovieID::Rating::Timestamp\n",
        "\n",
        "- UserIDs range between 1 and 6040\n",
        "- MovieIDs range between 1 and 3952\n",
        "- Ratings are made on a 5-star scale (whole-star ratings only)\n",
        "- Timestamp is represented in seconds since the epoch as returned by time(2)\n",
        "- Each user has at least 20 ratings"
      ]
    },
    {
      "cell_type": "code",
      "execution_count": null,
      "metadata": {
        "colab": {
          "base_uri": "https://localhost:8080/",
          "height": 363
        },
        "id": "mJZdzIGj9UL6",
        "outputId": "49a9ba92-f39b-4000-8181-0fb911e284dc"
      },
      "outputs": [
        {
          "output_type": "execute_result",
          "data": {
            "text/plain": [
              "   UserID  MovieID  Rating  Timestamp\n",
              "0       1     1193       5  978300760\n",
              "1       1      661       3  978302109\n",
              "2       1      914       3  978301968\n",
              "3       1     3408       4  978300275\n",
              "4       1     2355       5  978824291\n",
              "5       1     1197       3  978302268\n",
              "6       1     1287       5  978302039\n",
              "7       1     2804       5  978300719\n",
              "8       1      594       4  978302268\n",
              "9       1      919       4  978301368"
            ],
            "text/html": [
              "\n",
              "  <div id=\"df-6433b0d7-e7de-4d98-ab9b-358d2ed08898\">\n",
              "    <div class=\"colab-df-container\">\n",
              "      <div>\n",
              "<style scoped>\n",
              "    .dataframe tbody tr th:only-of-type {\n",
              "        vertical-align: middle;\n",
              "    }\n",
              "\n",
              "    .dataframe tbody tr th {\n",
              "        vertical-align: top;\n",
              "    }\n",
              "\n",
              "    .dataframe thead th {\n",
              "        text-align: right;\n",
              "    }\n",
              "</style>\n",
              "<table border=\"1\" class=\"dataframe\">\n",
              "  <thead>\n",
              "    <tr style=\"text-align: right;\">\n",
              "      <th></th>\n",
              "      <th>UserID</th>\n",
              "      <th>MovieID</th>\n",
              "      <th>Rating</th>\n",
              "      <th>Timestamp</th>\n",
              "    </tr>\n",
              "  </thead>\n",
              "  <tbody>\n",
              "    <tr>\n",
              "      <th>0</th>\n",
              "      <td>1</td>\n",
              "      <td>1193</td>\n",
              "      <td>5</td>\n",
              "      <td>978300760</td>\n",
              "    </tr>\n",
              "    <tr>\n",
              "      <th>1</th>\n",
              "      <td>1</td>\n",
              "      <td>661</td>\n",
              "      <td>3</td>\n",
              "      <td>978302109</td>\n",
              "    </tr>\n",
              "    <tr>\n",
              "      <th>2</th>\n",
              "      <td>1</td>\n",
              "      <td>914</td>\n",
              "      <td>3</td>\n",
              "      <td>978301968</td>\n",
              "    </tr>\n",
              "    <tr>\n",
              "      <th>3</th>\n",
              "      <td>1</td>\n",
              "      <td>3408</td>\n",
              "      <td>4</td>\n",
              "      <td>978300275</td>\n",
              "    </tr>\n",
              "    <tr>\n",
              "      <th>4</th>\n",
              "      <td>1</td>\n",
              "      <td>2355</td>\n",
              "      <td>5</td>\n",
              "      <td>978824291</td>\n",
              "    </tr>\n",
              "    <tr>\n",
              "      <th>5</th>\n",
              "      <td>1</td>\n",
              "      <td>1197</td>\n",
              "      <td>3</td>\n",
              "      <td>978302268</td>\n",
              "    </tr>\n",
              "    <tr>\n",
              "      <th>6</th>\n",
              "      <td>1</td>\n",
              "      <td>1287</td>\n",
              "      <td>5</td>\n",
              "      <td>978302039</td>\n",
              "    </tr>\n",
              "    <tr>\n",
              "      <th>7</th>\n",
              "      <td>1</td>\n",
              "      <td>2804</td>\n",
              "      <td>5</td>\n",
              "      <td>978300719</td>\n",
              "    </tr>\n",
              "    <tr>\n",
              "      <th>8</th>\n",
              "      <td>1</td>\n",
              "      <td>594</td>\n",
              "      <td>4</td>\n",
              "      <td>978302268</td>\n",
              "    </tr>\n",
              "    <tr>\n",
              "      <th>9</th>\n",
              "      <td>1</td>\n",
              "      <td>919</td>\n",
              "      <td>4</td>\n",
              "      <td>978301368</td>\n",
              "    </tr>\n",
              "  </tbody>\n",
              "</table>\n",
              "</div>\n",
              "      <button class=\"colab-df-convert\" onclick=\"convertToInteractive('df-6433b0d7-e7de-4d98-ab9b-358d2ed08898')\"\n",
              "              title=\"Convert this dataframe to an interactive table.\"\n",
              "              style=\"display:none;\">\n",
              "        \n",
              "  <svg xmlns=\"http://www.w3.org/2000/svg\" height=\"24px\"viewBox=\"0 0 24 24\"\n",
              "       width=\"24px\">\n",
              "    <path d=\"M0 0h24v24H0V0z\" fill=\"none\"/>\n",
              "    <path d=\"M18.56 5.44l.94 2.06.94-2.06 2.06-.94-2.06-.94-.94-2.06-.94 2.06-2.06.94zm-11 1L8.5 8.5l.94-2.06 2.06-.94-2.06-.94L8.5 2.5l-.94 2.06-2.06.94zm10 10l.94 2.06.94-2.06 2.06-.94-2.06-.94-.94-2.06-.94 2.06-2.06.94z\"/><path d=\"M17.41 7.96l-1.37-1.37c-.4-.4-.92-.59-1.43-.59-.52 0-1.04.2-1.43.59L10.3 9.45l-7.72 7.72c-.78.78-.78 2.05 0 2.83L4 21.41c.39.39.9.59 1.41.59.51 0 1.02-.2 1.41-.59l7.78-7.78 2.81-2.81c.8-.78.8-2.07 0-2.86zM5.41 20L4 18.59l7.72-7.72 1.47 1.35L5.41 20z\"/>\n",
              "  </svg>\n",
              "      </button>\n",
              "      \n",
              "  <style>\n",
              "    .colab-df-container {\n",
              "      display:flex;\n",
              "      flex-wrap:wrap;\n",
              "      gap: 12px;\n",
              "    }\n",
              "\n",
              "    .colab-df-convert {\n",
              "      background-color: #E8F0FE;\n",
              "      border: none;\n",
              "      border-radius: 50%;\n",
              "      cursor: pointer;\n",
              "      display: none;\n",
              "      fill: #1967D2;\n",
              "      height: 32px;\n",
              "      padding: 0 0 0 0;\n",
              "      width: 32px;\n",
              "    }\n",
              "\n",
              "    .colab-df-convert:hover {\n",
              "      background-color: #E2EBFA;\n",
              "      box-shadow: 0px 1px 2px rgba(60, 64, 67, 0.3), 0px 1px 3px 1px rgba(60, 64, 67, 0.15);\n",
              "      fill: #174EA6;\n",
              "    }\n",
              "\n",
              "    [theme=dark] .colab-df-convert {\n",
              "      background-color: #3B4455;\n",
              "      fill: #D2E3FC;\n",
              "    }\n",
              "\n",
              "    [theme=dark] .colab-df-convert:hover {\n",
              "      background-color: #434B5C;\n",
              "      box-shadow: 0px 1px 3px 1px rgba(0, 0, 0, 0.15);\n",
              "      filter: drop-shadow(0px 1px 2px rgba(0, 0, 0, 0.3));\n",
              "      fill: #FFFFFF;\n",
              "    }\n",
              "  </style>\n",
              "\n",
              "      <script>\n",
              "        const buttonEl =\n",
              "          document.querySelector('#df-6433b0d7-e7de-4d98-ab9b-358d2ed08898 button.colab-df-convert');\n",
              "        buttonEl.style.display =\n",
              "          google.colab.kernel.accessAllowed ? 'block' : 'none';\n",
              "\n",
              "        async function convertToInteractive(key) {\n",
              "          const element = document.querySelector('#df-6433b0d7-e7de-4d98-ab9b-358d2ed08898');\n",
              "          const dataTable =\n",
              "            await google.colab.kernel.invokeFunction('convertToInteractive',\n",
              "                                                     [key], {});\n",
              "          if (!dataTable) return;\n",
              "\n",
              "          const docLinkHtml = 'Like what you see? Visit the ' +\n",
              "            '<a target=\"_blank\" href=https://colab.research.google.com/notebooks/data_table.ipynb>data table notebook</a>'\n",
              "            + ' to learn more about interactive tables.';\n",
              "          element.innerHTML = '';\n",
              "          dataTable['output_type'] = 'display_data';\n",
              "          await google.colab.output.renderOutput(dataTable, element);\n",
              "          const docLink = document.createElement('div');\n",
              "          docLink.innerHTML = docLinkHtml;\n",
              "          element.appendChild(docLink);\n",
              "        }\n",
              "      </script>\n",
              "    </div>\n",
              "  </div>\n",
              "  "
            ]
          },
          "metadata": {},
          "execution_count": 46
        }
      ],
      "source": [
        "ratings = pd.read_csv(\"ratings.dat\", sep=\"::\", engine=\"python\", header=None)\n",
        "ratings.columns = [\"UserID\", \"MovieID\", \"Rating\", \"Timestamp\"]\n",
        "ratings.head(10)"
      ]
    },
    {
      "cell_type": "markdown",
      "metadata": {
        "id": "az91-yfZ9UL8"
      },
      "source": [
        "# Предобработанные данные\n",
        "\n",
        "Для построения нашей рекомендательной системы мы будем использовать уже подготовленные данные."
      ]
    },
    {
      "cell_type": "code",
      "execution_count": null,
      "metadata": {
        "colab": {
          "base_uri": "https://localhost:8080/"
        },
        "id": "NT5bF-tt9UL9",
        "outputId": "7fb07476-65e9-4a68-973e-65708cf9ba23"
      },
      "outputs": [
        {
          "output_type": "stream",
          "name": "stdout",
          "text": [
            "--2022-04-18 23:55:10--  https://raw.githubusercontent.com/hexiangnan/neural_collaborative_filtering/master/Data/ml-1m.test.negative\n",
            "Resolving raw.githubusercontent.com (raw.githubusercontent.com)... 185.199.108.133, 185.199.109.133, 185.199.110.133, ...\n",
            "Connecting to raw.githubusercontent.com (raw.githubusercontent.com)|185.199.108.133|:443... connected.\n",
            "HTTP request sent, awaiting response... 200 OK\n",
            "Length: 2891424 (2.8M) [text/plain]\n",
            "Saving to: ‘ml-1m.test.negative.1’\n",
            "\n",
            "ml-1m.test.negative 100%[===================>]   2.76M  --.-KB/s    in 0.06s   \n",
            "\n",
            "2022-04-18 23:55:11 (43.1 MB/s) - ‘ml-1m.test.negative.1’ saved [2891424/2891424]\n",
            "\n",
            "--2022-04-18 23:55:11--  https://raw.githubusercontent.com/hexiangnan/neural_collaborative_filtering/master/Data/ml-1m.test.rating\n",
            "Resolving raw.githubusercontent.com (raw.githubusercontent.com)... 185.199.108.133, 185.199.109.133, 185.199.110.133, ...\n",
            "Connecting to raw.githubusercontent.com (raw.githubusercontent.com)|185.199.108.133|:443... connected.\n",
            "HTTP request sent, awaiting response... 200 OK\n",
            "Length: 128039 (125K) [text/plain]\n",
            "Saving to: ‘ml-1m.test.rating.1’\n",
            "\n",
            "ml-1m.test.rating.1 100%[===================>] 125.04K  --.-KB/s    in 0.02s   \n",
            "\n",
            "2022-04-18 23:55:11 (6.07 MB/s) - ‘ml-1m.test.rating.1’ saved [128039/128039]\n",
            "\n",
            "--2022-04-18 23:55:11--  https://raw.githubusercontent.com/hexiangnan/neural_collaborative_filtering/master/Data/ml-1m.train.rating\n",
            "Resolving raw.githubusercontent.com (raw.githubusercontent.com)... 185.199.108.133, 185.199.109.133, 185.199.110.133, ...\n",
            "Connecting to raw.githubusercontent.com (raw.githubusercontent.com)|185.199.108.133|:443... connected.\n",
            "HTTP request sent, awaiting response... 200 OK\n",
            "Length: 20982911 (20M) [text/plain]\n",
            "Saving to: ‘ml-1m.train.rating.1’\n",
            "\n",
            "ml-1m.train.rating. 100%[===================>]  20.01M  --.-KB/s    in 0.1s    \n",
            "\n",
            "2022-04-18 23:55:11 (143 MB/s) - ‘ml-1m.train.rating.1’ saved [20982911/20982911]\n",
            "\n"
          ]
        }
      ],
      "source": [
        "# загружаем данные\n",
        "!wget https://raw.githubusercontent.com/hexiangnan/neural_collaborative_filtering/master/Data/ml-1m.test.negative\n",
        "!wget https://raw.githubusercontent.com/hexiangnan/neural_collaborative_filtering/master/Data/ml-1m.test.rating\n",
        "!wget https://raw.githubusercontent.com/hexiangnan/neural_collaborative_filtering/master/Data/ml-1m.train.rating"
      ]
    },
    {
      "cell_type": "markdown",
      "metadata": {
        "id": "MH5zD--D9UL-"
      },
      "source": [
        "Данные предварительно предобработаны:\n",
        "\n",
        "**train.rating:**\n",
        "- Train file.\n",
        "- Each Line is a training instance: userID itemID rating timestamp (if have)"
      ]
    },
    {
      "cell_type": "code",
      "execution_count": null,
      "metadata": {
        "colab": {
          "base_uri": "https://localhost:8080/",
          "height": 206
        },
        "id": "9JEO64nX9UL-",
        "outputId": "afc52274-9e83-4306-dcf1-600be75229e7"
      },
      "outputs": [
        {
          "output_type": "execute_result",
          "data": {
            "text/plain": [
              "   user  item  rating  timestamp\n",
              "0     0    32       4  978824330\n",
              "1     0    34       4  978824330\n",
              "2     0     4       5  978824291\n",
              "3     0    35       4  978824291\n",
              "4     0    30       4  978824291"
            ],
            "text/html": [
              "\n",
              "  <div id=\"df-62341139-22df-41aa-8bb1-46b0251b8c4c\">\n",
              "    <div class=\"colab-df-container\">\n",
              "      <div>\n",
              "<style scoped>\n",
              "    .dataframe tbody tr th:only-of-type {\n",
              "        vertical-align: middle;\n",
              "    }\n",
              "\n",
              "    .dataframe tbody tr th {\n",
              "        vertical-align: top;\n",
              "    }\n",
              "\n",
              "    .dataframe thead th {\n",
              "        text-align: right;\n",
              "    }\n",
              "</style>\n",
              "<table border=\"1\" class=\"dataframe\">\n",
              "  <thead>\n",
              "    <tr style=\"text-align: right;\">\n",
              "      <th></th>\n",
              "      <th>user</th>\n",
              "      <th>item</th>\n",
              "      <th>rating</th>\n",
              "      <th>timestamp</th>\n",
              "    </tr>\n",
              "  </thead>\n",
              "  <tbody>\n",
              "    <tr>\n",
              "      <th>0</th>\n",
              "      <td>0</td>\n",
              "      <td>32</td>\n",
              "      <td>4</td>\n",
              "      <td>978824330</td>\n",
              "    </tr>\n",
              "    <tr>\n",
              "      <th>1</th>\n",
              "      <td>0</td>\n",
              "      <td>34</td>\n",
              "      <td>4</td>\n",
              "      <td>978824330</td>\n",
              "    </tr>\n",
              "    <tr>\n",
              "      <th>2</th>\n",
              "      <td>0</td>\n",
              "      <td>4</td>\n",
              "      <td>5</td>\n",
              "      <td>978824291</td>\n",
              "    </tr>\n",
              "    <tr>\n",
              "      <th>3</th>\n",
              "      <td>0</td>\n",
              "      <td>35</td>\n",
              "      <td>4</td>\n",
              "      <td>978824291</td>\n",
              "    </tr>\n",
              "    <tr>\n",
              "      <th>4</th>\n",
              "      <td>0</td>\n",
              "      <td>30</td>\n",
              "      <td>4</td>\n",
              "      <td>978824291</td>\n",
              "    </tr>\n",
              "  </tbody>\n",
              "</table>\n",
              "</div>\n",
              "      <button class=\"colab-df-convert\" onclick=\"convertToInteractive('df-62341139-22df-41aa-8bb1-46b0251b8c4c')\"\n",
              "              title=\"Convert this dataframe to an interactive table.\"\n",
              "              style=\"display:none;\">\n",
              "        \n",
              "  <svg xmlns=\"http://www.w3.org/2000/svg\" height=\"24px\"viewBox=\"0 0 24 24\"\n",
              "       width=\"24px\">\n",
              "    <path d=\"M0 0h24v24H0V0z\" fill=\"none\"/>\n",
              "    <path d=\"M18.56 5.44l.94 2.06.94-2.06 2.06-.94-2.06-.94-.94-2.06-.94 2.06-2.06.94zm-11 1L8.5 8.5l.94-2.06 2.06-.94-2.06-.94L8.5 2.5l-.94 2.06-2.06.94zm10 10l.94 2.06.94-2.06 2.06-.94-2.06-.94-.94-2.06-.94 2.06-2.06.94z\"/><path d=\"M17.41 7.96l-1.37-1.37c-.4-.4-.92-.59-1.43-.59-.52 0-1.04.2-1.43.59L10.3 9.45l-7.72 7.72c-.78.78-.78 2.05 0 2.83L4 21.41c.39.39.9.59 1.41.59.51 0 1.02-.2 1.41-.59l7.78-7.78 2.81-2.81c.8-.78.8-2.07 0-2.86zM5.41 20L4 18.59l7.72-7.72 1.47 1.35L5.41 20z\"/>\n",
              "  </svg>\n",
              "      </button>\n",
              "      \n",
              "  <style>\n",
              "    .colab-df-container {\n",
              "      display:flex;\n",
              "      flex-wrap:wrap;\n",
              "      gap: 12px;\n",
              "    }\n",
              "\n",
              "    .colab-df-convert {\n",
              "      background-color: #E8F0FE;\n",
              "      border: none;\n",
              "      border-radius: 50%;\n",
              "      cursor: pointer;\n",
              "      display: none;\n",
              "      fill: #1967D2;\n",
              "      height: 32px;\n",
              "      padding: 0 0 0 0;\n",
              "      width: 32px;\n",
              "    }\n",
              "\n",
              "    .colab-df-convert:hover {\n",
              "      background-color: #E2EBFA;\n",
              "      box-shadow: 0px 1px 2px rgba(60, 64, 67, 0.3), 0px 1px 3px 1px rgba(60, 64, 67, 0.15);\n",
              "      fill: #174EA6;\n",
              "    }\n",
              "\n",
              "    [theme=dark] .colab-df-convert {\n",
              "      background-color: #3B4455;\n",
              "      fill: #D2E3FC;\n",
              "    }\n",
              "\n",
              "    [theme=dark] .colab-df-convert:hover {\n",
              "      background-color: #434B5C;\n",
              "      box-shadow: 0px 1px 3px 1px rgba(0, 0, 0, 0.15);\n",
              "      filter: drop-shadow(0px 1px 2px rgba(0, 0, 0, 0.3));\n",
              "      fill: #FFFFFF;\n",
              "    }\n",
              "  </style>\n",
              "\n",
              "      <script>\n",
              "        const buttonEl =\n",
              "          document.querySelector('#df-62341139-22df-41aa-8bb1-46b0251b8c4c button.colab-df-convert');\n",
              "        buttonEl.style.display =\n",
              "          google.colab.kernel.accessAllowed ? 'block' : 'none';\n",
              "\n",
              "        async function convertToInteractive(key) {\n",
              "          const element = document.querySelector('#df-62341139-22df-41aa-8bb1-46b0251b8c4c');\n",
              "          const dataTable =\n",
              "            await google.colab.kernel.invokeFunction('convertToInteractive',\n",
              "                                                     [key], {});\n",
              "          if (!dataTable) return;\n",
              "\n",
              "          const docLinkHtml = 'Like what you see? Visit the ' +\n",
              "            '<a target=\"_blank\" href=https://colab.research.google.com/notebooks/data_table.ipynb>data table notebook</a>'\n",
              "            + ' to learn more about interactive tables.';\n",
              "          element.innerHTML = '';\n",
              "          dataTable['output_type'] = 'display_data';\n",
              "          await google.colab.output.renderOutput(dataTable, element);\n",
              "          const docLink = document.createElement('div');\n",
              "          docLink.innerHTML = docLinkHtml;\n",
              "          element.appendChild(docLink);\n",
              "        }\n",
              "      </script>\n",
              "    </div>\n",
              "  </div>\n",
              "  "
            ]
          },
          "metadata": {},
          "execution_count": 48
        }
      ],
      "source": [
        "train_data = pd.read_csv(\n",
        "    \"ml-1m.train.rating\",\n",
        "    sep=\"\\t\",\n",
        "    header=None,\n",
        "    names=[\"user\", \"item\", \"rating\", \"timestamp\"],\n",
        "    usecols=[0, 1, 2, 3],\n",
        "    dtype={0: np.int32, 1: np.int32, 2: np.int32, 3: np.int32},\n",
        ")\n",
        "train_data.head()"
      ]
    },
    {
      "cell_type": "code",
      "execution_count": null,
      "metadata": {
        "colab": {
          "base_uri": "https://localhost:8080/"
        },
        "id": "mTYu4dH89UL_",
        "outputId": "b09328e9-dfd3-4ba4-b4c7-2c97d7823ee1"
      },
      "outputs": [
        {
          "output_type": "execute_result",
          "data": {
            "text/plain": [
              "(6040, 3706)"
            ]
          },
          "metadata": {},
          "execution_count": 49
        }
      ],
      "source": [
        "user_num = train_data[\"user\"].max() + 1\n",
        "item_num = train_data[\"item\"].max() + 1\n",
        "\n",
        "user_num, item_num"
      ]
    },
    {
      "cell_type": "code",
      "execution_count": null,
      "metadata": {
        "colab": {
          "base_uri": "https://localhost:8080/"
        },
        "id": "VDAo9tr99UMA",
        "outputId": "05543f44-8ff2-4a8c-d40b-7dfe323136be"
      },
      "outputs": [
        {
          "output_type": "execute_result",
          "data": {
            "text/plain": [
              "[[0, 32], [0, 34], [0, 4], [0, 35], [0, 30]]"
            ]
          },
          "metadata": {},
          "execution_count": 50
        }
      ],
      "source": [
        "train_data = train_data[[\"user\", \"item\"]].values.tolist()\n",
        "train_data[:5]"
      ]
    },
    {
      "cell_type": "markdown",
      "metadata": {
        "id": "a4-mW5l79UMA"
      },
      "source": [
        "Матрица ретингов: строки - пользователи, столбцы - фильмы, на пересечении - 0 (не смотрел фильм) или 1 (смотрел)."
      ]
    },
    {
      "cell_type": "code",
      "execution_count": null,
      "metadata": {
        "id": "jc5kipKy9UMB"
      },
      "outputs": [],
      "source": [
        "import scipy.sparse as sp\n",
        "\n",
        "# load ratings as a dok matrix\n",
        "train_mat = sp.dok_matrix((user_num, item_num), dtype=np.float32)\n",
        "for x in train_data:\n",
        "    train_mat[x[0], x[1]] = 1.0\n",
        "\n",
        "# train_mat[userID, itemID] = 0 or 1"
      ]
    },
    {
      "cell_type": "markdown",
      "metadata": {
        "id": "NvnGXykQ9UMB"
      },
      "source": [
        "**test.rating:**\n",
        "- Test file (positive instances).\n",
        "- Each Line is a testing instance: userID itemID rating timestamp (if have)"
      ]
    },
    {
      "cell_type": "code",
      "execution_count": null,
      "metadata": {
        "colab": {
          "base_uri": "https://localhost:8080/",
          "height": 206
        },
        "id": "rKzNTBef9UMC",
        "outputId": "c419fe6f-d777-464a-d3fb-aa083854f83e"
      },
      "outputs": [
        {
          "output_type": "execute_result",
          "data": {
            "text/plain": [
              "   user  item  rating  timestamp\n",
              "0     0    25       5  978824351\n",
              "1     1   133       3  978300174\n",
              "2     2   207       4  978298504\n",
              "3     3   208       4  978294282\n",
              "4     4   222       2  978246585"
            ],
            "text/html": [
              "\n",
              "  <div id=\"df-b8f6d355-53cb-4ebd-9b28-0960a40e07ec\">\n",
              "    <div class=\"colab-df-container\">\n",
              "      <div>\n",
              "<style scoped>\n",
              "    .dataframe tbody tr th:only-of-type {\n",
              "        vertical-align: middle;\n",
              "    }\n",
              "\n",
              "    .dataframe tbody tr th {\n",
              "        vertical-align: top;\n",
              "    }\n",
              "\n",
              "    .dataframe thead th {\n",
              "        text-align: right;\n",
              "    }\n",
              "</style>\n",
              "<table border=\"1\" class=\"dataframe\">\n",
              "  <thead>\n",
              "    <tr style=\"text-align: right;\">\n",
              "      <th></th>\n",
              "      <th>user</th>\n",
              "      <th>item</th>\n",
              "      <th>rating</th>\n",
              "      <th>timestamp</th>\n",
              "    </tr>\n",
              "  </thead>\n",
              "  <tbody>\n",
              "    <tr>\n",
              "      <th>0</th>\n",
              "      <td>0</td>\n",
              "      <td>25</td>\n",
              "      <td>5</td>\n",
              "      <td>978824351</td>\n",
              "    </tr>\n",
              "    <tr>\n",
              "      <th>1</th>\n",
              "      <td>1</td>\n",
              "      <td>133</td>\n",
              "      <td>3</td>\n",
              "      <td>978300174</td>\n",
              "    </tr>\n",
              "    <tr>\n",
              "      <th>2</th>\n",
              "      <td>2</td>\n",
              "      <td>207</td>\n",
              "      <td>4</td>\n",
              "      <td>978298504</td>\n",
              "    </tr>\n",
              "    <tr>\n",
              "      <th>3</th>\n",
              "      <td>3</td>\n",
              "      <td>208</td>\n",
              "      <td>4</td>\n",
              "      <td>978294282</td>\n",
              "    </tr>\n",
              "    <tr>\n",
              "      <th>4</th>\n",
              "      <td>4</td>\n",
              "      <td>222</td>\n",
              "      <td>2</td>\n",
              "      <td>978246585</td>\n",
              "    </tr>\n",
              "  </tbody>\n",
              "</table>\n",
              "</div>\n",
              "      <button class=\"colab-df-convert\" onclick=\"convertToInteractive('df-b8f6d355-53cb-4ebd-9b28-0960a40e07ec')\"\n",
              "              title=\"Convert this dataframe to an interactive table.\"\n",
              "              style=\"display:none;\">\n",
              "        \n",
              "  <svg xmlns=\"http://www.w3.org/2000/svg\" height=\"24px\"viewBox=\"0 0 24 24\"\n",
              "       width=\"24px\">\n",
              "    <path d=\"M0 0h24v24H0V0z\" fill=\"none\"/>\n",
              "    <path d=\"M18.56 5.44l.94 2.06.94-2.06 2.06-.94-2.06-.94-.94-2.06-.94 2.06-2.06.94zm-11 1L8.5 8.5l.94-2.06 2.06-.94-2.06-.94L8.5 2.5l-.94 2.06-2.06.94zm10 10l.94 2.06.94-2.06 2.06-.94-2.06-.94-.94-2.06-.94 2.06-2.06.94z\"/><path d=\"M17.41 7.96l-1.37-1.37c-.4-.4-.92-.59-1.43-.59-.52 0-1.04.2-1.43.59L10.3 9.45l-7.72 7.72c-.78.78-.78 2.05 0 2.83L4 21.41c.39.39.9.59 1.41.59.51 0 1.02-.2 1.41-.59l7.78-7.78 2.81-2.81c.8-.78.8-2.07 0-2.86zM5.41 20L4 18.59l7.72-7.72 1.47 1.35L5.41 20z\"/>\n",
              "  </svg>\n",
              "      </button>\n",
              "      \n",
              "  <style>\n",
              "    .colab-df-container {\n",
              "      display:flex;\n",
              "      flex-wrap:wrap;\n",
              "      gap: 12px;\n",
              "    }\n",
              "\n",
              "    .colab-df-convert {\n",
              "      background-color: #E8F0FE;\n",
              "      border: none;\n",
              "      border-radius: 50%;\n",
              "      cursor: pointer;\n",
              "      display: none;\n",
              "      fill: #1967D2;\n",
              "      height: 32px;\n",
              "      padding: 0 0 0 0;\n",
              "      width: 32px;\n",
              "    }\n",
              "\n",
              "    .colab-df-convert:hover {\n",
              "      background-color: #E2EBFA;\n",
              "      box-shadow: 0px 1px 2px rgba(60, 64, 67, 0.3), 0px 1px 3px 1px rgba(60, 64, 67, 0.15);\n",
              "      fill: #174EA6;\n",
              "    }\n",
              "\n",
              "    [theme=dark] .colab-df-convert {\n",
              "      background-color: #3B4455;\n",
              "      fill: #D2E3FC;\n",
              "    }\n",
              "\n",
              "    [theme=dark] .colab-df-convert:hover {\n",
              "      background-color: #434B5C;\n",
              "      box-shadow: 0px 1px 3px 1px rgba(0, 0, 0, 0.15);\n",
              "      filter: drop-shadow(0px 1px 2px rgba(0, 0, 0, 0.3));\n",
              "      fill: #FFFFFF;\n",
              "    }\n",
              "  </style>\n",
              "\n",
              "      <script>\n",
              "        const buttonEl =\n",
              "          document.querySelector('#df-b8f6d355-53cb-4ebd-9b28-0960a40e07ec button.colab-df-convert');\n",
              "        buttonEl.style.display =\n",
              "          google.colab.kernel.accessAllowed ? 'block' : 'none';\n",
              "\n",
              "        async function convertToInteractive(key) {\n",
              "          const element = document.querySelector('#df-b8f6d355-53cb-4ebd-9b28-0960a40e07ec');\n",
              "          const dataTable =\n",
              "            await google.colab.kernel.invokeFunction('convertToInteractive',\n",
              "                                                     [key], {});\n",
              "          if (!dataTable) return;\n",
              "\n",
              "          const docLinkHtml = 'Like what you see? Visit the ' +\n",
              "            '<a target=\"_blank\" href=https://colab.research.google.com/notebooks/data_table.ipynb>data table notebook</a>'\n",
              "            + ' to learn more about interactive tables.';\n",
              "          element.innerHTML = '';\n",
              "          dataTable['output_type'] = 'display_data';\n",
              "          await google.colab.output.renderOutput(dataTable, element);\n",
              "          const docLink = document.createElement('div');\n",
              "          docLink.innerHTML = docLinkHtml;\n",
              "          element.appendChild(docLink);\n",
              "        }\n",
              "      </script>\n",
              "    </div>\n",
              "  </div>\n",
              "  "
            ]
          },
          "metadata": {},
          "execution_count": 52
        }
      ],
      "source": [
        "test_data = pd.read_csv(\n",
        "    \"ml-1m.test.rating\",\n",
        "    sep=\"\\t\",\n",
        "    header=None,\n",
        "    names=[\"user\", \"item\", \"rating\", \"timestamp\"],\n",
        "    usecols=[0, 1, 2, 3],\n",
        "    dtype={0: np.int32, 1: np.int32, 2: np.int32, 3: np.int32},\n",
        ")\n",
        "test_data.head()"
      ]
    },
    {
      "cell_type": "markdown",
      "metadata": {
        "id": "BHnSj94M9UMC"
      },
      "source": [
        "**test.negative**\n",
        "- Test file (negative instances).\n",
        "- Each line corresponds to the line of test.rating, containing 99 negative samples.  \n",
        "- Each line is in the format: (userID,itemID) negativeItemID1 negativeItemID2 ...\n",
        "\n",
        "Это подготовленный набор данных, который мы будем использовать для тестирования нашей рекомендательной системы. Для каждого пользователя он содержит 1 фильм, который он смотрел, и 99 фильмов, которые он НЕ смотрел. Мы будем использовать их для подсчета метрик качества."
      ]
    },
    {
      "cell_type": "code",
      "execution_count": null,
      "metadata": {
        "id": "nX5GMbsh9UMD"
      },
      "outputs": [],
      "source": [
        "test_data = []\n",
        "with open(\"ml-1m.test.negative\", \"r\") as fd:\n",
        "    line = fd.readline()\n",
        "    while line != None and line != \"\":\n",
        "        arr = line.split(\"\\t\")\n",
        "        u = eval(arr[0])[0]\n",
        "        test_data.append([u, eval(arr[0])[1]])\n",
        "        for i in arr[1:]:\n",
        "            test_data.append([u, int(i)])\n",
        "        line = fd.readline()"
      ]
    },
    {
      "cell_type": "code",
      "execution_count": null,
      "metadata": {
        "colab": {
          "base_uri": "https://localhost:8080/"
        },
        "id": "Iprfrc7B9UMD",
        "outputId": "a1a88f2e-39ea-45c3-861a-16a11c1ff959"
      },
      "outputs": [
        {
          "output_type": "execute_result",
          "data": {
            "text/plain": [
              "[[0, 25], [0, 1064], [0, 174], [0, 2791], [0, 3373]]"
            ]
          },
          "metadata": {},
          "execution_count": 54
        }
      ],
      "source": [
        "test_data[:5]"
      ]
    },
    {
      "cell_type": "markdown",
      "metadata": {
        "id": "ASN9DS9T9UME"
      },
      "source": [
        "# Подготовка dataloaders\n",
        "\n",
        "Реализуем специальный класс для работы с данными."
      ]
    },
    {
      "cell_type": "code",
      "execution_count": null,
      "metadata": {
        "colab": {
          "base_uri": "https://localhost:8080/"
        },
        "id": "SRmyRChp9UME",
        "outputId": "0a6d5e22-be95-4dda-e8b0-965da2b73462"
      },
      "outputs": [
        {
          "output_type": "stream",
          "name": "stdout",
          "text": [
            "cuda\n"
          ]
        }
      ],
      "source": [
        "import torch\n",
        "import torch.nn as nn\n",
        "import torch.nn.functional as F\n",
        "import torch.optim as optim\n",
        "import torch.utils.data as data\n",
        "\n",
        "DEVICE = torch.device(\"cuda\" if torch.cuda.is_available() else \"cpu\")\n",
        "print(DEVICE)"
      ]
    },
    {
      "cell_type": "code",
      "execution_count": null,
      "metadata": {
        "id": "oFaeAuCD9UMF"
      },
      "outputs": [],
      "source": [
        "class NCFData(data.Dataset):\n",
        "    def __init__(self, features, num_item, train_mat=None, num_ng=0, is_training=None):\n",
        "        super(NCFData, self).__init__()\n",
        "\n",
        "        \"\"\" Note that the labels are only useful when training, we thus\n",
        "            add them in the ng_sample() function.\n",
        "        \"\"\"\n",
        "\n",
        "        self.features_ps = features\n",
        "        self.num_item = num_item\n",
        "        self.train_mat = train_mat\n",
        "        self.num_ng = num_ng\n",
        "        self.is_training = is_training\n",
        "        self.labels = [0 for _ in range(len(features))]\n",
        "\n",
        "    def ng_sample(self):\n",
        "        # добавляем фильмы, которые пользователь не смотрел.\n",
        "        # это нужно для примеров 0-го класса при обучении.\n",
        "\n",
        "        assert self.is_training, \"no need to sampling when testing\"\n",
        "\n",
        "        self.features_ng = []\n",
        "        for x in self.features_ps:\n",
        "            u = x[0]\n",
        "            for t in range(self.num_ng):\n",
        "                j = np.random.randint(self.num_item)\n",
        "                while (u, j) in self.train_mat:\n",
        "                    j = np.random.randint(self.num_item)\n",
        "                self.features_ng.append([u, j])\n",
        "\n",
        "        # тру метрки классов\n",
        "        labels_ps = [1 for _ in range(len(self.features_ps))]\n",
        "        labels_ng = [0 for _ in range(len(self.features_ng))]\n",
        "\n",
        "        self.features_fill = self.features_ps + self.features_ng\n",
        "        self.labels_fill = labels_ps + labels_ng\n",
        "\n",
        "    def __len__(self):\n",
        "        return (self.num_ng + 1) * len(self.labels)\n",
        "\n",
        "    def __getitem__(self, idx):\n",
        "\n",
        "        features = self.features_fill if self.is_training else self.features_ps\n",
        "        labels = self.labels_fill if self.is_training else self.labels\n",
        "\n",
        "        user = features[idx][0]\n",
        "        item = features[idx][1]\n",
        "        label = labels[idx]  # Нужны только для обучения. В тесте не используются.\n",
        "        return user, item, label"
      ]
    },
    {
      "cell_type": "code",
      "execution_count": null,
      "metadata": {
        "id": "UZpzcj179UMG"
      },
      "outputs": [],
      "source": [
        "train_dataset = NCFData(train_data, item_num, train_mat, num_ng=1, is_training=True)\n",
        "test_dataset = NCFData(test_data, item_num, train_mat, num_ng=0, is_training=False)"
      ]
    },
    {
      "cell_type": "code",
      "execution_count": null,
      "metadata": {
        "id": "tGF8Ywbo9UMG"
      },
      "outputs": [],
      "source": [
        "# попросим класс добавить num_ng негативных примеров (фильмы, которые не смотрел пользователь)\n",
        "train_dataset.ng_sample()  # для train_dataset num_ng=1"
      ]
    },
    {
      "cell_type": "code",
      "execution_count": null,
      "metadata": {
        "colab": {
          "base_uri": "https://localhost:8080/"
        },
        "id": "hv05CMUK9UMH",
        "outputId": "0bcae95c-ea08-419a-95c8-bb637067ed9b"
      },
      "outputs": [
        {
          "output_type": "stream",
          "name": "stdout",
          "text": [
            "User, Item, Label\n",
            "0 32 1\n",
            "0 34 1\n",
            "0 4 1\n",
            "0 35 1\n",
            "0 30 1\n",
            "0 29 1\n",
            "0 33 1\n"
          ]
        }
      ],
      "source": [
        "# пример использования\n",
        "print(\"User, Item, Label\")\n",
        "\n",
        "for idx, (user, item, label) in enumerate(train_dataset):\n",
        "    print(user, item, label)\n",
        "    if idx > 5:\n",
        "        break"
      ]
    },
    {
      "cell_type": "code",
      "execution_count": null,
      "metadata": {
        "colab": {
          "base_uri": "https://localhost:8080/"
        },
        "id": "IXodYVZL9UMM",
        "outputId": "43f18172-f935-4f80-bef1-7d2c63a3613a"
      },
      "outputs": [
        {
          "output_type": "stream",
          "name": "stderr",
          "text": [
            "/usr/local/lib/python3.7/dist-packages/torch/utils/data/dataloader.py:481: UserWarning: This DataLoader will create 4 worker processes in total. Our suggested max number of worker in current system is 2, which is smaller than what this DataLoader is going to create. Please be aware that excessive worker creation might get DataLoader running slow or even freeze, lower the worker number to avoid potential slowness/freeze if necessary.\n",
            "  cpuset_checked))\n"
          ]
        }
      ],
      "source": [
        "# создадим даталоадеры для pytorch\n",
        "train_loader = data.DataLoader(\n",
        "    train_dataset, batch_size=256, shuffle=True, num_workers=4\n",
        ")\n",
        "test_loader = data.DataLoader(\n",
        "    test_dataset, batch_size=100, shuffle=False, num_workers=0\n",
        ")  # one user per batch !!!"
      ]
    },
    {
      "cell_type": "markdown",
      "metadata": {
        "id": "fXCNBuJl9UMN"
      },
      "source": [
        "# Neural Collaborative Filtering (NCF)"
      ]
    },
    {
      "cell_type": "markdown",
      "metadata": {
        "id": "ZlhwLyvl9UMO"
      },
      "source": [
        "### Matrix factorization algorithm\n",
        "\n",
        "**NCF** - это нейронная модель матричной факторизации, которая объединяет **Generalized Matrix Factorization (GMF)** и **Multi-Layer Perceptron (MLP)**, объединяя в себе сильные стороны линейности MF и нелинейности MLP для моделирования скрытых структур user-item.\n",
        "\n",
        "Схема архитектуры **NCF**:"
      ]
    },
    {
      "cell_type": "markdown",
      "metadata": {
        "id": "oDggEC5W9UMO"
      },
      "source": [
        "<img src=\"https://miro.medium.com/max/1400/1*CoETyuU36fshduKAfFhCrg.png\" width =900>\n",
        "\n",
        "На схеме видно, как используются скрытые векторы пользователей и айтемов и как затем объединяются выходы из слоя **GMF** (слева) и слоя **MLP** (справа).\n",
        "\n",
        "**Статья:** Xiangnan He, Lizi Liao, Hanwang Zhang, Liqiang Nie, Xia Hu & Tat-Seng Chua, Neural Collaborative Filtering, 2017 https://arxiv.org/abs/1708.05031\n",
        "\n",
        "### 1 Модель GMF\n",
        "\n",
        "В **ALS** матрицу оценок можно записать как:\n",
        "\n",
        "$$\\hat { r } _ { u , i } = q _ { i } ^ { T } p _ { u }$$\n",
        "\n",
        "**GMF** представляет собой слой NCF как стандартный выходной слой MF. Поэтому MF может быть легко обобщена и расширена. Например, если мы позволим весам ребер выходного слоя обучаться без общего ограничения, то это даст вариант MF, который позволяет варьировать важность скрытых измерений. А если мы будем использовать нелинейную функцию активации, то это даст обобщение MF до нелинейной формы, которая может быть более выразительной, чем линейная MF модель. **GMF** может быть записана как:\n",
        "\n",
        "$$\\hat { r } _ { u , i } = a _ { o u t } \\left( h ^ { T } \\left( q _ { i } \\odot p _ { u } \\right) \\right)$$\n",
        "\n",
        "где $\\odot$ - поэлементное произведение векторов, ${a}_{out}$ и ${h}$ обозначают функцию активации и веса ребер выходного слоя соответственно. MF может рассматриваться как частный случай GMF. Интуитивно, если мы используем тождественную функцию для ${a}_{out}$ и выбираем единичный вектор в качестве ${h}$, то мы в точности повторяем модель MF."
      ]
    },
    {
      "cell_type": "markdown",
      "metadata": {
        "id": "BhnJfg8k9UMP"
      },
      "source": [
        "### 2 Модель MLP\n",
        "\n",
        "NCF моделирует рейтинги двумя способами:\n",
        "1.   поэлементное произведение векторов,\n",
        "2.   конкатенация векторов.\n",
        "\n",
        "\n",
        "Сразу после контатенации скрытых признаков пользователей и айтемов применяется стандартная модель MLP. Это дает возможность наделить модель большим уровнем гибкости и нелинейности для изучения взаимодействий между $p_{u}$ и $q_{i}$.\n",
        "\n",
        "Запишем модель **MLP** более строго.\n",
        "\n",
        "Для входного слоя, используется конкатенация векторов пользователей и айтемов:\n",
        "\n",
        "$$z _ { 1 } = \\phi _ { 1 } \\left( p _ { u } , q _ { i } \\right) = \\left[ \\begin{array} { c } { p _ { u } } \\\\ { q _ { i } } \\end{array} \\right]$$\n",
        "\n",
        "Для скрытых и выходного слоев MLP запись имеет вид:\n",
        "\n",
        "$$\n",
        "\\phi _ { l } \\left( z _ { l } \\right) = a _ { o u t } \\left( W _ { l } ^ { T } z _ { l } + b _ { l } \\right) , ( l = 2,3 , \\ldots , L - 1 )\n",
        "$$\n",
        "\n",
        "\n",
        "\n",
        "$$\n",
        "\\hat { r } _ { u , i } = \\sigma \\left( h ^ { T } \\phi \\left( z _ { L - 1 } \\right) \\right)\n",
        "$$\n",
        "\n",
        "где ${ W }_{ l }$, ${ b }_{ l }$, и ${ a }_{ out }$ обозначают матрицу весов, вектор свободных членов и функцию активации для $l$-ого слоя, соответственно. В качестве функций активации MLP слоев, мы вольны выбирать любую: сигмоиду, гиперболический тангенс, ReLU и другие. В качестве функции активации на выходном слое используется сигмоида $\\sigma(x)=\\frac{1}{1+e^{-x}}$, чтобы ограничить оценки диапазоном (0, 1)."
      ]
    },
    {
      "cell_type": "markdown",
      "metadata": {
        "id": "2ICr3lwY9UMP"
      },
      "source": [
        "### 3 Смешивание GMF и MLP\n",
        "\n",
        "Чтобы обеспечить большую гибкость нашей смешанной модели, мы позволяем GMF и MLP обучать независимые эмбединги. Затем комбинируем две модели, объединяя их последние скрытие слои. Мы взяли $\\phi^{GMF}$ из GMF:\n",
        "\n",
        "$$\\phi _ { u , i } ^ { G M F } = p _ { u } ^ { G M F } \\odot q _ { i } ^ { G M F }$$\n",
        "\n",
        "и получили $\\phi^{MLP}$ из MLP:\n",
        "\n",
        "$$\\phi _ { u , i } ^ { M L P } = a _ { o u t } \\left( W _ { L } ^ { T } \\left( a _ { o u t } \\left( \\ldots a _ { o u t } \\left( W _ { 2 } ^ { T } \\left[ \\begin{array} { c } { p _ { u } ^ { M L P } } \\\\ { q _ { i } ^ { M L P } } \\end{array} \\right] + b _ { 2 } \\right) \\ldots \\right) \\right) + b _ { L }\\right.$$\n",
        "\n",
        "Наконец, мы смешали выходы из GMF и MLP:\n",
        "\n",
        "$$\\hat { r } _ { u , i } = \\sigma \\left( h ^ { T } \\left[ \\begin{array} { l } { \\phi ^ { G M F } } \\\\ { \\phi ^ { M L P } } \\end{array} \\right] \\right)$$\n",
        "\n",
        "Модель сочетает линейность MF и нелинейность DNN при моделировании скрытых user–item структур."
      ]
    },
    {
      "cell_type": "markdown",
      "metadata": {
        "id": "T_xmwApp9UMQ"
      },
      "source": [
        "### 4 Целевая функция\n",
        "\n",
        "Мы можем записать функцию правдоподобия как:\n",
        "\n",
        "$$P \\left( \\mathcal { R } , \\mathcal { R } ^ { - } | \\mathbf { P } , \\mathbf { Q } , \\Theta \\right) = \\prod _ { ( u , i ) \\in \\mathcal { R } } \\hat { r } _ { u , i } \\prod _ { ( u , j ) \\in \\mathcal { R } ^{ - } } \\left( 1 - \\hat { r } _ { u , j } \\right)$$\n",
        "\n",
        "где $\\mathcal{R}$ обозначает множество наблюдаемых взаимодействий пользователя, а $\\mathcal{ R } ^ { - }$ обозначает множество негативных наблюдений. $\\mathbf{P}$ и $\\mathbf{Q}$ - это скрытая матрица признаков пользователей и айтемов соответственно, $\\Theta$ - параметры модели. Взяв со знаком минус логарифм от правдоподобия мы получим целевую функцию для минимизации NCF алгоритма. Что-то напоминает, не правда ли? https://en.wikipedia.org/wiki/Cross_entropy\n",
        "\n",
        "$$L = - \\sum _ { ( u , i ) \\in \\mathcal { R } \\cup { \\mathcal { R } } ^ { - } } r _ { u , i } \\log \\hat { r } _ { u , i } + \\left( 1 - r _ { u , i } \\right) \\log \\left( 1 - \\hat { r } _ { u , i } \\right)$$"
      ]
    },
    {
      "cell_type": "code",
      "execution_count": null,
      "metadata": {
        "id": "SqL6tdy49UMQ"
      },
      "outputs": [],
      "source": [
        "class NCF(nn.Module):\n",
        "    def __init__(\n",
        "        self,\n",
        "        user_num,\n",
        "        item_num,\n",
        "        factor_num,\n",
        "        num_layers,\n",
        "        dropout,\n",
        "        model,\n",
        "        GMF_model=None,\n",
        "        MLP_model=None,\n",
        "    ):\n",
        "        super(NCF, self).__init__()\n",
        "\n",
        "        \"\"\"\n",
        "        user_num: number of users;\n",
        "        item_num: number of items;\n",
        "        factor_num: number of predictive factors;\n",
        "        num_layers: the number of layers in MLP model;\n",
        "        dropout: dropout rate between fully connected layers;\n",
        "        model: 'MLP', 'GMF', 'NeuMF-end', and 'NeuMF-pre';\n",
        "        GMF_model: pre-trained GMF weights;\n",
        "        MLP_model: pre-trained MLP weights.\n",
        "        \"\"\"\n",
        "\n",
        "        self.dropout = dropout\n",
        "        self.model = model\n",
        "        self.GMF_model = GMF_model\n",
        "        self.MLP_model = MLP_model\n",
        "\n",
        "        self.embed_user_GMF = nn.Embedding(user_num, factor_num)\n",
        "        self.embed_item_GMF = nn.Embedding(item_num, factor_num)\n",
        "\n",
        "        self.embed_user_MLP = nn.Embedding(\n",
        "            user_num, factor_num * (2 ** (num_layers - 1))\n",
        "        )\n",
        "        self.embed_item_MLP = nn.Embedding(\n",
        "            item_num, factor_num * (2 ** (num_layers - 1))\n",
        "        )\n",
        "\n",
        "        MLP_modules = []\n",
        "        for i in range(num_layers):\n",
        "            input_size = factor_num * (2 ** (num_layers - i))\n",
        "            MLP_modules.append(nn.Dropout(p=self.dropout))\n",
        "            MLP_modules.append(nn.Linear(input_size, input_size // 2))\n",
        "            MLP_modules.append(nn.ReLU())\n",
        "        self.MLP_layers = nn.Sequential(*MLP_modules)\n",
        "\n",
        "        if self.model in [\"MLP\", \"GMF\"]:\n",
        "            predict_size = factor_num\n",
        "        else:\n",
        "            predict_size = factor_num * 2\n",
        "        self.predict_layer = nn.Linear(predict_size, 1)\n",
        "\n",
        "        self._init_weight_()\n",
        "\n",
        "    def _init_weight_(self):\n",
        "\n",
        "        \"\"\"We leave the weights initialization here.\"\"\"\n",
        "\n",
        "        if not self.model == \"NeuMF-pre\":\n",
        "            nn.init.normal_(self.embed_user_GMF.weight, std=0.01)\n",
        "            nn.init.normal_(self.embed_user_MLP.weight, std=0.01)\n",
        "            nn.init.normal_(self.embed_item_GMF.weight, std=0.01)\n",
        "            nn.init.normal_(self.embed_item_MLP.weight, std=0.01)\n",
        "\n",
        "            for m in self.MLP_layers:\n",
        "                if isinstance(m, nn.Linear):\n",
        "                    nn.init.xavier_uniform_(m.weight)\n",
        "\n",
        "            nn.init.kaiming_uniform_(\n",
        "                self.predict_layer.weight, a=1, nonlinearity=\"sigmoid\"\n",
        "            )\n",
        "\n",
        "            for m in self.modules():\n",
        "                if isinstance(m, nn.Linear) and m.bias is not None:\n",
        "                    m.bias.data.zero_()\n",
        "        else:\n",
        "            # embedding layers\n",
        "            self.embed_user_GMF.weight.data.copy_(self.GMF_model.embed_user_GMF.weight)\n",
        "            self.embed_item_GMF.weight.data.copy_(self.GMF_model.embed_item_GMF.weight)\n",
        "            self.embed_user_MLP.weight.data.copy_(self.MLP_model.embed_user_MLP.weight)\n",
        "            self.embed_item_MLP.weight.data.copy_(self.MLP_model.embed_item_MLP.weight)\n",
        "\n",
        "            # mlp layers\n",
        "            for (m1, m2) in zip(self.MLP_layers, self.MLP_model.MLP_layers):\n",
        "                if isinstance(m1, nn.Linear) and isinstance(m2, nn.Linear):\n",
        "                    m1.weight.data.copy_(m2.weight)\n",
        "                    m1.bias.data.copy_(m2.bias)\n",
        "\n",
        "            # predict layers\n",
        "            predict_weight = torch.cat(\n",
        "                [\n",
        "                    self.GMF_model.predict_layer.weight,\n",
        "                    self.MLP_model.predict_layer.weight,\n",
        "                ],\n",
        "                dim=1,\n",
        "            )\n",
        "\n",
        "            precit_bias = (\n",
        "                self.GMF_model.predict_layer.bias + self.MLP_model.predict_layer.bias\n",
        "            )\n",
        "\n",
        "            self.predict_layer.weight.data.copy_(0.5 * predict_weight)\n",
        "            self.predict_layer.bias.data.copy_(0.5 * precit_bias)\n",
        "\n",
        "    def forward(self, user, item):\n",
        "\n",
        "        if not self.model == \"MLP\":\n",
        "            embed_user_GMF = self.embed_user_GMF(user)\n",
        "            embed_item_GMF = self.embed_item_GMF(item)\n",
        "            output_GMF = embed_user_GMF * embed_item_GMF\n",
        "\n",
        "        if not self.model == \"GMF\":\n",
        "            embed_user_MLP = self.embed_user_MLP(user)\n",
        "            embed_item_MLP = self.embed_item_MLP(item)\n",
        "            interaction = torch.cat((embed_user_MLP, embed_item_MLP), -1)\n",
        "            output_MLP = self.MLP_layers(interaction)\n",
        "\n",
        "        if self.model == \"GMF\":\n",
        "            concat = output_GMF\n",
        "        elif self.model == \"MLP\":\n",
        "            concat = output_MLP\n",
        "        else:\n",
        "            concat = torch.cat((output_GMF, output_MLP), -1)\n",
        "\n",
        "        prediction = self.predict_layer(concat)\n",
        "        return prediction.view(-1)"
      ]
    },
    {
      "cell_type": "code",
      "execution_count": null,
      "metadata": {
        "id": "RfCQASlA9UMS"
      },
      "outputs": [],
      "source": [
        "model = NCF(\n",
        "    user_num, item_num, factor_num=32, num_layers=3, dropout=0.0, model=\"NeuMF-end\"\n",
        ")\n",
        "model.to(DEVICE)\n",
        "\n",
        "loss_function = nn.BCEWithLogitsLoss()\n",
        "optimizer = optim.Adam(model.parameters(), lr=0.001)"
      ]
    },
    {
      "cell_type": "markdown",
      "metadata": {
        "id": "fKxzd43e9UMS"
      },
      "source": [
        "# Обучение модели"
      ]
    },
    {
      "cell_type": "code",
      "execution_count": null,
      "metadata": {
        "colab": {
          "base_uri": "https://localhost:8080/",
          "height": 390
        },
        "id": "eovfmwp69UMS",
        "outputId": "78a866b4-2040-482e-c4fe-e37fdfb98312"
      },
      "outputs": [
        {
          "output_type": "display_data",
          "data": {
            "text/plain": [
              "<Figure size 720x360 with 1 Axes>"
            ],
            "image/png": "[encoded data removed]"
          },
          "metadata": {
            "needs_background": "light"
          }
        },
        {
          "output_type": "stream",
          "name": "stdout",
          "text": [
            "CPU times: user 25min 55s, sys: 2min 50s, total: 28min 45s\n",
            "Wall time: 31min 7s\n"
          ]
        }
      ],
      "source": [
        "%%time\n",
        "\n",
        "loss_val = []\n",
        "\n",
        "for epoch in range(1):  # try more epoches (20)\n",
        "\n",
        "    # Train\n",
        "    model.train()  # Enable dropout (if have).\n",
        "    train_loader.dataset.ng_sample()\n",
        "\n",
        "    for user, item, label in train_loader:\n",
        "        user = user.to(DEVICE)\n",
        "        item = item.to(DEVICE)\n",
        "        label = label.float().to(DEVICE)\n",
        "\n",
        "        model.zero_grad()\n",
        "        prediction = model(user, item)\n",
        "        loss = loss_function(prediction, label)\n",
        "        loss.backward()\n",
        "        optimizer.step()\n",
        "\n",
        "        # Plot learning curve\n",
        "        loss_val.append(loss.cpu().detach().numpy())\n",
        "\n",
        "        if len(loss_val) % 100 != 0:\n",
        "            continue\n",
        "\n",
        "        clear_output(wait=True)\n",
        "        plt.figure(figsize=(10, 5))\n",
        "        plt.plot(loss_val)\n",
        "        plt.xlabel(\"Number of iterations\", size=14)\n",
        "        plt.ylabel(\"Loss\", size=14)\n",
        "        plt.title(\"Epoch number: \" + str(epoch + 1), size=14)\n",
        "        plt.show()"
      ]
    },
    {
      "cell_type": "markdown",
      "metadata": {
        "id": "b7gN52g79UMT"
      },
      "source": [
        "# Метрики качества"
      ]
    },
    {
      "cell_type": "markdown",
      "metadata": {
        "id": "a7hNSRSj9UMU"
      },
      "source": [
        "**Метрики качества предсказания событий:**\n",
        "\n",
        "$$Hitrate@k = |R_u (k) \\cap L_u|$$\n",
        "\n",
        "$$Precision@k = \\frac{|R_u (k) \\cap L_u|}{|R_u (k)|}$$\n",
        "\n",
        "$$Recall@k = \\frac{|R_u (k) \\cap L_u|}{|L_u|}$$\n",
        "\n",
        "где $R_u$ (k) - список k лучших рекомендаций алгоритма; $L_u$ - список фильмов, которые пользователь реально посмотрел.\n",
        "\n",
        "\n",
        "**Метрики качества ранжирования:**\n",
        "\n",
        "$$ DCG@k =  \\sum_{p=1}^{k} g(r_{ui_{p}}) d(p) $$\n",
        "\n",
        "где $p$ - позиция фильма в списке рекомендаций; $g(r) = 2^r - 1$; $d(p) = \\frac{1}{\\log(p+1)}$.\n",
        "\n",
        "$$ nDCG@k =  \\frac{DCG@k}{max DCG@k}$$\n",
        "\n",
        "\n",
        "**Конспект**: https://github.com/hse-ds/iad-applied-ds/blob/master/2020/lectures/lecture03-recommender.pdf"
      ]
    },
    {
      "cell_type": "markdown",
      "metadata": {
        "id": "Z2CWeDnr9UMU"
      },
      "source": [
        "### Задание 1\n",
        "\n",
        "Напишите функцию для подсчета `Hitrate@k`."
      ]
    },
    {
      "cell_type": "code",
      "execution_count": null,
      "metadata": {
        "id": "Nlg1mtDp9UMV"
      },
      "outputs": [],
      "source": [
        "def hit(gt_item, pred_items):\n",
        "    \"\"\"\n",
        "    gt_item : ID фильма, который пользователь реально посмотрел.\n",
        "    pred_items: спискок К рекомендаций фильмов.\n",
        "\n",
        "    Пример:\n",
        "    gt_item = 25\n",
        "    pred_items = [128, 25, 174, 273, 175, 1135, 1182, 617, 58, 1902]\n",
        "    \"\"\"\n",
        "    ### YOUR CODE HERE ####\n",
        "    if gt_item in pred_items:\n",
        "        return 1\n",
        "    return 0\n",
        "    ### THE END ###########"
      ]
    },
    {
      "cell_type": "markdown",
      "metadata": {
        "id": "T-q-UwSL9UMV"
      },
      "source": [
        "### Задание 2\n",
        "\n",
        "Напишите функцию для подсчета `nDCG@k`. Используйте $g(r) = 1$."
      ]
    },
    {
      "cell_type": "code",
      "execution_count": null,
      "metadata": {
        "id": "KPlNq0tO9UMW"
      },
      "outputs": [],
      "source": [
        "def ndcg(gt_item, pred_items):\n",
        "    \"\"\"\n",
        "    gt_item : ID фильма, который пользователь реально посмотрел.\n",
        "    pred_items: спискок К рекомендаций фильмов.\n",
        "\n",
        "    Пример:\n",
        "    gt_item = 25\n",
        "    pred_items = [128, 25, 174, 273, 175, 1135, 1182, 617, 58, 1902]\n",
        "    \"\"\"\n",
        "    ### YOUR CODE HERE ####\n",
        "    if gt_item in pred_items:\n",
        "        index = pred_items.index(gt_item)\n",
        "        return np.reciprocal(np.log2(index + 2))\n",
        "    return 0\n",
        "    ### THE END ###########"
      ]
    },
    {
      "cell_type": "markdown",
      "metadata": {
        "id": "Ia6l6IY-9UMW"
      },
      "source": [
        "### Задание 3\n",
        "\n",
        "Напишите функцию, которая будет считать средние значения метрик качесвта на тестовых данных. Используйте `torch.topk()` и `torch.take()`."
      ]
    },
    {
      "cell_type": "code",
      "execution_count": null,
      "metadata": {
        "id": "fYnfdMyI9UMW"
      },
      "outputs": [],
      "source": [
        "def metrics(model, test_loader, top_k):\n",
        "    HR, NDCG = [], []\n",
        "\n",
        "    for user, item, label in test_loader:\n",
        "\n",
        "        ### YOUR CODE HERE ####\n",
        "        user = user.to(DEVICE)\n",
        "        item = item.to(DEVICE)\n",
        "\n",
        "        predictions = model(user, item)\n",
        "        _, indices = torch.topk(predictions, top_k)\n",
        "        recommends = torch.take(item, indices).cpu().numpy().tolist()\n",
        "\n",
        "        gt_item = item[0].item()\n",
        "        HR.append(hit(gt_item, recommends))\n",
        "        NDCG.append(ndcg(gt_item, recommends))\n",
        "        ### THE END ###########\n",
        "\n",
        "    return np.mean(HR), np.mean(NDCG)"
      ]
    },
    {
      "cell_type": "markdown",
      "metadata": {
        "id": "kjTI7sy39UMX"
      },
      "source": [
        "Посчитаем метрики качества на тесте."
      ]
    },
    {
      "cell_type": "code",
      "execution_count": null,
      "metadata": {
        "colab": {
          "base_uri": "https://localhost:8080/"
        },
        "id": "DOe_T2C79UMX",
        "outputId": "3b2304c7-c0e3-42f8-cc7d-5cc174bea5eb"
      },
      "outputs": [
        {
          "output_type": "execute_result",
          "data": {
            "text/plain": [
              "(0.659933774834437, 0.3910553412410072)"
            ]
          },
          "metadata": {},
          "execution_count": 67
        }
      ],
      "source": [
        "model.eval()\n",
        "HR, NDCG = metrics(model, test_loader, top_k=10)\n",
        "HR, NDCG"
      ]
    },
    {
      "cell_type": "markdown",
      "metadata": {
        "id": "KetiuhZd9UMY"
      },
      "source": [
        "# Factorization Machine (FM)\n",
        "\n",
        "Авторы статьи https://arxiv.org/abs/2005.09683 утверждают, что NCF плохо учит произведение векторов. В результате, более простые методы демонстрируют лучшее качество рекомендаций. Сравним NCF c FM.\n",
        "\n",
        "<img src=\"https://s3-us-west-1.amazonaws.com/sijunhe-blog/plots/post15/fm_example.png\">\n",
        "\n",
        "Модель предполагает, что рейтинг $\\hat{y}(x)$ зависит от вектора признаков следующим образом:\n",
        "$$\\hat{y}(x) = w_0 + \\sum_{i=1}^{n}w_i x_i + \\sum_{i=1}^{n} \\sum_{j=i+1}^{n} <v_i, v_j> x_i x_j$$\n",
        "\n",
        "**Конспект:** https://github.com/hse-ds/iad-applied-ds/blob/master/2020/lectures/lecture02-recommender.pdf"
      ]
    },
    {
      "cell_type": "code",
      "execution_count": null,
      "metadata": {
        "colab": {
          "base_uri": "https://localhost:8080/"
        },
        "id": "O4eREfIQ9UMY",
        "outputId": "b016c29c-715a-4c8f-d107-1f6b1cfa3397"
      },
      "outputs": [
        {
          "output_type": "stream",
          "name": "stdout",
          "text": [
            "Collecting git+https://github.com/coreylynch/pyFM\n",
            "  Cloning https://github.com/coreylynch/pyFM to /tmp/pip-req-build-yzwz7p7_\n",
            "  Running command git clone -q https://github.com/coreylynch/pyFM /tmp/pip-req-build-yzwz7p7_\n"
          ]
        }
      ],
      "source": [
        "!pip install git+https://github.com/coreylynch/pyFM"
      ]
    },
    {
      "cell_type": "code",
      "execution_count": null,
      "metadata": {
        "id": "G-A1wvzn9UMY"
      },
      "outputs": [],
      "source": [
        "from pyfm import pylibfm\n",
        "from sklearn.feature_extraction import DictVectorizer"
      ]
    },
    {
      "cell_type": "markdown",
      "metadata": {
        "id": "a6XNdai19UMZ"
      },
      "source": [
        "## Подготовка данных\n",
        "Приведем обучающую выборку к нужному формату."
      ]
    },
    {
      "cell_type": "code",
      "execution_count": null,
      "metadata": {
        "id": "kMgEooui9UMZ"
      },
      "outputs": [],
      "source": [
        "train_dataset_fm = []\n",
        "y_train = []\n",
        "\n",
        "for i in range(\n",
        "    0, len(train_dataset.features_fill), 10\n",
        "):  # весь датасет может сломать pyfm !!!\n",
        "    user, item = train_dataset.features_fill[i]\n",
        "    label = train_dataset.labels_fill[i]\n",
        "    train_dataset_fm += [{\"user\": str(user), \"item\": str(item)}]\n",
        "    y_train += [label]"
      ]
    },
    {
      "cell_type": "code",
      "execution_count": null,
      "metadata": {
        "colab": {
          "base_uri": "https://localhost:8080/"
        },
        "id": "6rqQp7Wu9UMa",
        "outputId": "f39e4cf8-6634-4c02-dee0-37646d601ac9"
      },
      "outputs": [
        {
          "output_type": "execute_result",
          "data": {
            "text/plain": [
              "[{'item': '32', 'user': '0'},\n",
              " {'item': '23', 'user': '0'},\n",
              " {'item': '13', 'user': '0'},\n",
              " {'item': '45', 'user': '0'},\n",
              " {'item': '44', 'user': '0'}]"
            ]
          },
          "metadata": {},
          "execution_count": 71
        }
      ],
      "source": [
        "# пример\n",
        "train_dataset_fm[:5]"
      ]
    },
    {
      "cell_type": "code",
      "execution_count": null,
      "metadata": {
        "colab": {
          "base_uri": "https://localhost:8080/"
        },
        "id": "GOEmcrJ69UMa",
        "outputId": "f84c0f6b-9d0b-40ee-d784-059a5c7cb9e7"
      },
      "outputs": [
        {
          "output_type": "execute_result",
          "data": {
            "text/plain": [
              "[1, 1, 1, 1, 1]"
            ]
          },
          "metadata": {},
          "execution_count": 72
        }
      ],
      "source": [
        "# пример\n",
        "y_train[:5]"
      ]
    },
    {
      "cell_type": "markdown",
      "metadata": {
        "id": "h4If8lpZ9UMa"
      },
      "source": [
        "## Обучение FM"
      ]
    },
    {
      "cell_type": "code",
      "execution_count": null,
      "metadata": {
        "id": "PS3veh4d9UMb"
      },
      "outputs": [],
      "source": [
        "# переведем словарь в метрицу векторов x\n",
        "v = DictVectorizer()\n",
        "X_train = v.fit_transform(train_dataset_fm)\n",
        "y_train = np.array(y_train)"
      ]
    },
    {
      "cell_type": "code",
      "execution_count": null,
      "metadata": {
        "colab": {
          "base_uri": "https://localhost:8080/"
        },
        "id": "lBbpCkhU9UMb",
        "outputId": "ea144a99-6c23-4905-8d0e-c747e7986dd6"
      },
      "outputs": [
        {
          "output_type": "stream",
          "name": "stdout",
          "text": [
            "Creating validation dataset of 0.01 of training for adaptive regularization\n",
            "-- Epoch 1\n",
            "Training log loss: 0.66187\n",
            "-- Epoch 2\n",
            "Training log loss: 0.61068\n",
            "-- Epoch 3\n",
            "Training log loss: 0.57738\n",
            "-- Epoch 4\n",
            "Training log loss: 0.55402\n",
            "-- Epoch 5\n",
            "Training log loss: 0.53674\n",
            "-- Epoch 6\n",
            "Training log loss: 0.52354\n",
            "-- Epoch 7\n",
            "Training log loss: 0.51310\n",
            "-- Epoch 8\n",
            "Training log loss: 0.50469\n",
            "-- Epoch 9\n",
            "Training log loss: 0.49784\n",
            "-- Epoch 10\n",
            "Training log loss: 0.49206\n",
            "-- Epoch 11\n",
            "Training log loss: 0.48711\n",
            "-- Epoch 12\n",
            "Training log loss: 0.48290\n",
            "-- Epoch 13\n",
            "Training log loss: 0.47910\n",
            "-- Epoch 14\n",
            "Training log loss: 0.47571\n",
            "-- Epoch 15\n",
            "Training log loss: 0.47271\n",
            "-- Epoch 16\n",
            "Training log loss: 0.46993\n",
            "-- Epoch 17\n",
            "Training log loss: 0.46729\n",
            "-- Epoch 18\n",
            "Training log loss: 0.46491\n",
            "-- Epoch 19\n",
            "Training log loss: 0.46261\n",
            "-- Epoch 20\n",
            "Training log loss: 0.46045\n",
            "-- Epoch 21\n",
            "Training log loss: 0.45829\n",
            "-- Epoch 22\n",
            "Training log loss: 0.45628\n",
            "-- Epoch 23\n",
            "Training log loss: 0.45436\n",
            "-- Epoch 24\n",
            "Training log loss: 0.45243\n",
            "-- Epoch 25\n",
            "Training log loss: 0.45058\n",
            "-- Epoch 26\n",
            "Training log loss: 0.44876\n",
            "-- Epoch 27\n",
            "Training log loss: 0.44696\n",
            "-- Epoch 28\n",
            "Training log loss: 0.44524\n",
            "-- Epoch 29\n",
            "Training log loss: 0.44350\n",
            "-- Epoch 30\n",
            "Training log loss: 0.44177\n",
            "-- Epoch 31\n",
            "Training log loss: 0.44000\n",
            "-- Epoch 32\n",
            "Training log loss: 0.43841\n",
            "-- Epoch 33\n",
            "Training log loss: 0.43661\n",
            "-- Epoch 34\n",
            "Training log loss: 0.43478\n",
            "-- Epoch 35\n",
            "Training log loss: 0.43298\n",
            "-- Epoch 36\n",
            "Training log loss: 0.43098\n",
            "-- Epoch 37\n",
            "Training log loss: 0.42901\n",
            "-- Epoch 38\n",
            "Training log loss: 0.42714\n",
            "-- Epoch 39\n",
            "Training log loss: 0.42535\n",
            "-- Epoch 40\n",
            "Training log loss: 0.42384\n",
            "-- Epoch 41\n",
            "Training log loss: 0.42247\n",
            "-- Epoch 42\n",
            "Training log loss: 0.42100\n",
            "-- Epoch 43\n",
            "Training log loss: 0.41956\n",
            "-- Epoch 44\n",
            "Training log loss: 0.41803\n",
            "-- Epoch 45\n",
            "Training log loss: 0.41656\n",
            "-- Epoch 46\n",
            "Training log loss: 0.41522\n",
            "-- Epoch 47\n",
            "Training log loss: 0.41410\n",
            "-- Epoch 48\n",
            "Training log loss: 0.41317\n",
            "-- Epoch 49\n",
            "Training log loss: 0.41230\n",
            "-- Epoch 50\n",
            "Training log loss: 0.41114\n",
            "-- Epoch 51\n",
            "Training log loss: 0.40963\n",
            "-- Epoch 52\n",
            "Training log loss: 0.40802\n",
            "-- Epoch 53\n",
            "Training log loss: 0.40679\n",
            "-- Epoch 54\n",
            "Training log loss: 0.40626\n",
            "-- Epoch 55\n",
            "Training log loss: 0.40592\n",
            "-- Epoch 56\n",
            "Training log loss: 0.40505\n",
            "-- Epoch 57\n",
            "Training log loss: 0.40385\n",
            "-- Epoch 58\n",
            "Training log loss: 0.40264\n",
            "-- Epoch 59\n",
            "Training log loss: 0.40186\n",
            "-- Epoch 60\n",
            "Training log loss: 0.40074\n",
            "-- Epoch 61\n",
            "Training log loss: 0.39951\n",
            "-- Epoch 62\n",
            "Training log loss: 0.39795\n",
            "-- Epoch 63\n",
            "Training log loss: 0.39727\n",
            "-- Epoch 64\n",
            "Training log loss: 0.39680\n",
            "-- Epoch 65\n",
            "Training log loss: 0.39650\n",
            "-- Epoch 66\n",
            "Training log loss: 0.39581\n",
            "-- Epoch 67\n",
            "Training log loss: 0.39532\n",
            "-- Epoch 68\n",
            "Training log loss: 0.39457\n",
            "-- Epoch 69\n",
            "Training log loss: 0.39362\n",
            "-- Epoch 70\n",
            "Training log loss: 0.39290\n",
            "-- Epoch 71\n",
            "Training log loss: 0.39189\n",
            "-- Epoch 72\n",
            "Training log loss: 0.39120\n",
            "-- Epoch 73\n",
            "Training log loss: 0.39051\n",
            "-- Epoch 74\n",
            "Training log loss: 0.38994\n",
            "-- Epoch 75\n",
            "Training log loss: 0.38928\n",
            "-- Epoch 76\n",
            "Training log loss: 0.38873\n",
            "-- Epoch 77\n",
            "Training log loss: 0.38819\n",
            "-- Epoch 78\n",
            "Training log loss: 0.38735\n",
            "-- Epoch 79\n",
            "Training log loss: 0.38648\n",
            "-- Epoch 80\n",
            "Training log loss: 0.38575\n",
            "-- Epoch 81\n",
            "Training log loss: 0.38525\n",
            "-- Epoch 82\n",
            "Training log loss: 0.38461\n",
            "-- Epoch 83\n",
            "Training log loss: 0.38310\n",
            "-- Epoch 84\n",
            "Training log loss: 0.38170\n",
            "-- Epoch 85\n",
            "Training log loss: 0.38083\n",
            "-- Epoch 86\n",
            "Training log loss: 0.38038\n",
            "-- Epoch 87\n",
            "Training log loss: 0.37960\n",
            "-- Epoch 88\n",
            "Training log loss: 0.37886\n",
            "-- Epoch 89\n",
            "Training log loss: 0.37838\n",
            "-- Epoch 90\n",
            "Training log loss: 0.37801\n",
            "-- Epoch 91\n",
            "Training log loss: 0.37688\n",
            "-- Epoch 92\n",
            "Training log loss: 0.37572\n",
            "-- Epoch 93\n",
            "Training log loss: 0.37504\n",
            "-- Epoch 94\n",
            "Training log loss: 0.37464\n",
            "-- Epoch 95\n",
            "Training log loss: 0.37414\n",
            "-- Epoch 96\n",
            "Training log loss: 0.37334\n",
            "-- Epoch 97\n",
            "Training log loss: 0.37287\n",
            "-- Epoch 98\n",
            "Training log loss: 0.37252\n",
            "-- Epoch 99\n",
            "Training log loss: 0.37206\n",
            "-- Epoch 100\n",
            "Training log loss: 0.37144\n",
            "CPU times: user 8min 45s, sys: 1.77 s, total: 8min 47s\n",
            "Wall time: 8min 44s\n"
          ]
        }
      ],
      "source": [
        "%%time\n",
        "# обучение\n",
        "# try more num_iter (100)\n",
        "fm = pylibfm.FM(\n",
        "    num_factors=32,\n",
        "    num_iter=20,\n",
        "    verbose=True,\n",
        "    task=\"classification\",\n",
        "    initial_learning_rate=0.01,\n",
        "    learning_rate_schedule=\"optimal\",\n",
        ")\n",
        "fm.fit(X_train, y_train)"
      ]
    },
    {
      "cell_type": "markdown",
      "metadata": {
        "id": "RWA-oY7M9UMc"
      },
      "source": [
        "## Измерение качества"
      ]
    },
    {
      "cell_type": "markdown",
      "metadata": {
        "id": "VNjGjVg69UMc"
      },
      "source": [
        "### Задание 4\n",
        "\n",
        "Напишите функцию, которая будет считать средние значения метрик качесвта на тестовых данных. Используйте `torch.topk()` и `torch.take()`."
      ]
    },
    {
      "cell_type": "code",
      "execution_count": null,
      "metadata": {
        "id": "wDfd_XtQ9UMd"
      },
      "outputs": [],
      "source": [
        "def metricsFM(model, test_loader, top_k):\n",
        "    HR, NDCG = [], []\n",
        "\n",
        "    for user, item, label in test_loader:\n",
        "\n",
        "        ### YOUR CODE HERE ####\n",
        "        ui = [\n",
        "            {\"user\": str(u), \"item\": str(i)}\n",
        "            for (u, i) in zip(user.detach().numpy(), item.detach().numpy())\n",
        "        ]\n",
        "        predictions = model.predict(v.transform(ui))\n",
        "        _, indices = torch.topk(torch.tensor(predictions), top_k)\n",
        "        recommends = torch.take(item, indices).cpu().numpy().tolist()\n",
        "\n",
        "        gt_item = item[0].item()\n",
        "        HR.append(hit(gt_item, recommends))\n",
        "        NDCG.append(ndcg(gt_item, recommends))\n",
        "        ### THE END ###########\n",
        "\n",
        "    return np.mean(HR), np.mean(NDCG)"
      ]
    },
    {
      "cell_type": "code",
      "execution_count": null,
      "metadata": {
        "colab": {
          "base_uri": "https://localhost:8080/"
        },
        "id": "wYtu3kge9UMd",
        "outputId": "821f9035-76b3-4a26-f2e6-36d92f30c654"
      },
      "outputs": [
        {
          "output_type": "execute_result",
          "data": {
            "text/plain": [
              "(0.44387417218543046, 0.2400342014620534)"
            ]
          },
          "metadata": {},
          "execution_count": 76
        }
      ],
      "source": [
        "HR, NDCG = metricsFM(fm, test_loader, top_k=10)\n",
        "HR, NDCG"
      ]
    },
    {
      "cell_type": "markdown",
      "metadata": {
        "id": "SsUuAVXt9UMe"
      },
      "source": [
        "# Вопросы:\n",
        "- Какой из алгоритмов лучше?\n",
        "- Как вы думаете почему?"
      ]
    },
    {
      "cell_type": "markdown",
      "metadata": {
        "id": "fwg3pIhI9UMe"
      },
      "source": [
        "# Ссылки\n",
        "\n",
        "- Тетрадка реализовна на основе кода https://github.com/guoyang9/NCF."
      ]
    }
  ],
  "metadata": {
    "kernelspec": {
      "display_name": "Python 3",
      "language": "python",
      "name": "python3"
    },
    "language_info": {
      "codemirror_mode": {
        "name": "ipython",
        "version": 3
      },
      "file_extension": ".py",
      "mimetype": "text/x-python",
      "name": "python",
      "nbconvert_exporter": "python",
      "pygments_lexer": "ipython3",
      "version": "3.8.3"
    },
    "colab": {
      "provenance": [],
      "collapsed_sections": [
        "ZlhwLyvl9UMO",
        "oDggEC5W9UMO",
        "BhnJfg8k9UMP"
      ],
      "include_colab_link": true
    },
    "accelerator": "GPU"
  },
  "nbformat": 4,
  "nbformat_minor": 0
}